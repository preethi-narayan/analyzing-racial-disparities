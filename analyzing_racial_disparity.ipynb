{
 "cells": [
  {
   "cell_type": "markdown",
   "metadata": {
    "id": "48xT_WfoVW7m"
   },
   "source": [
    "# Setup\n"
   ]
  },
  {
   "cell_type": "code",
   "execution_count": null,
   "metadata": {
    "colab": {
     "base_uri": "https://localhost:8080/"
    },
    "id": "1VR_j1uKFdY0",
    "outputId": "af911973-657f-4061-b91a-6ed60b06c094"
   },
   "outputs": [
    {
     "name": "stdout",
     "output_type": "stream",
     "text": [
      "Collecting DataSynthesizer\n",
      "  Downloading DataSynthesizer-0.1.11-py2.py3-none-any.whl (24 kB)\n",
      "Requirement already satisfied: pandas>=1.0.5 in /usr/local/lib/python3.7/dist-packages (from DataSynthesizer) (1.3.5)\n",
      "Requirement already satisfied: scikit-learn>=0.23.1 in /usr/local/lib/python3.7/dist-packages (from DataSynthesizer) (1.0.2)\n",
      "Requirement already satisfied: seaborn>=0.10.1 in /usr/local/lib/python3.7/dist-packages (from DataSynthesizer) (0.11.2)\n",
      "Requirement already satisfied: python-dateutil>=2.8.1 in /usr/local/lib/python3.7/dist-packages (from DataSynthesizer) (2.8.2)\n",
      "Requirement already satisfied: matplotlib>=3.2.2 in /usr/local/lib/python3.7/dist-packages (from DataSynthesizer) (3.2.2)\n",
      "Requirement already satisfied: numpy>=1.18.5 in /usr/local/lib/python3.7/dist-packages (from DataSynthesizer) (1.21.5)\n",
      "Requirement already satisfied: kiwisolver>=1.0.1 in /usr/local/lib/python3.7/dist-packages (from matplotlib>=3.2.2->DataSynthesizer) (1.4.2)\n",
      "Requirement already satisfied: cycler>=0.10 in /usr/local/lib/python3.7/dist-packages (from matplotlib>=3.2.2->DataSynthesizer) (0.11.0)\n",
      "Requirement already satisfied: pyparsing!=2.0.4,!=2.1.2,!=2.1.6,>=2.0.1 in /usr/local/lib/python3.7/dist-packages (from matplotlib>=3.2.2->DataSynthesizer) (3.0.8)\n",
      "Requirement already satisfied: typing-extensions in /usr/local/lib/python3.7/dist-packages (from kiwisolver>=1.0.1->matplotlib>=3.2.2->DataSynthesizer) (4.1.1)\n",
      "Requirement already satisfied: pytz>=2017.3 in /usr/local/lib/python3.7/dist-packages (from pandas>=1.0.5->DataSynthesizer) (2018.9)\n",
      "Requirement already satisfied: six>=1.5 in /usr/local/lib/python3.7/dist-packages (from python-dateutil>=2.8.1->DataSynthesizer) (1.15.0)\n",
      "Requirement already satisfied: scipy>=1.1.0 in /usr/local/lib/python3.7/dist-packages (from scikit-learn>=0.23.1->DataSynthesizer) (1.4.1)\n",
      "Requirement already satisfied: threadpoolctl>=2.0.0 in /usr/local/lib/python3.7/dist-packages (from scikit-learn>=0.23.1->DataSynthesizer) (3.1.0)\n",
      "Requirement already satisfied: joblib>=0.11 in /usr/local/lib/python3.7/dist-packages (from scikit-learn>=0.23.1->DataSynthesizer) (1.1.0)\n",
      "Installing collected packages: DataSynthesizer\n",
      "Successfully installed DataSynthesizer-0.1.11\n"
     ]
    }
   ],
   "source": [
    "!pip install DataSynthesizer"
   ]
  },
  {
   "cell_type": "code",
   "execution_count": null,
   "metadata": {
    "id": "yd3BwlQ1FdZD"
   },
   "outputs": [],
   "source": [
    "from DataSynthesizer.DataDescriber import DataDescriber\n",
    "from DataSynthesizer.DataGenerator import DataGenerator\n",
    "from DataSynthesizer.ModelInspector import ModelInspector\n",
    "from DataSynthesizer.lib.utils import normalize_given_distribution, read_json_file, pairwise_attributes_mutual_information, mutual_information, set_random_seed\n",
    "from DataSynthesizer.lib.utils import read_json_file, display_bayesian_network\n",
    "from IPython.display import clear_output\n",
    "from scipy.stats import entropy, ks_2samp\n",
    "from scipy.spatial.distance import euclidean\n",
    "from sklearn.metrics import mutual_info_score\n",
    "from random import randint\n",
    "import pandas as pd\n",
    "import matplotlib.pyplot as plt\n",
    "import seaborn as sns\n",
    "%matplotlib inline"
   ]
  },
  {
   "cell_type": "code",
   "execution_count": null,
   "metadata": {
    "id": "M6YGhJ8yFdZO"
   },
   "outputs": [],
   "source": [
    "def generate_data_A(input_data_file, output_data_size, seed=None):\n",
    "    seed = seed or randint(0, 2**30)\n",
    "    description_file = description_files['A']\n",
    "    \n",
    "    describer = DataDescriber()\n",
    "    describer.describe_dataset_in_random_mode(input_data_file, seed=seed)\n",
    "    describer.save_dataset_description_to_file(description_file)\n",
    "    \n",
    "    generator = DataGenerator()\n",
    "    generator.generate_dataset_in_random_mode(output_data_size, description_file, seed=seed)\n",
    "    return generator.synthetic_dataset"
   ]
  },
  {
   "cell_type": "code",
   "execution_count": null,
   "metadata": {
    "id": "_ucdJfUuFdZe"
   },
   "outputs": [],
   "source": [
    "def generate_data_B(input_data_file, output_data_size, epsilon=0.1, seed=None):\n",
    "    seed = seed or randint(0, 2**30)\n",
    "    description_file = description_files['B']\n",
    "    \n",
    "    describer = DataDescriber()\n",
    "    describer.describe_dataset_in_independent_attribute_mode(input_data_file, epsilon=epsilon, seed=seed)\n",
    "    describer.save_dataset_description_to_file(description_file)\n",
    "    \n",
    "    generator = DataGenerator()\n",
    "    generator.generate_dataset_in_independent_mode(output_data_size, description_file, seed=seed)\n",
    "    return generator.synthetic_dataset"
   ]
  },
  {
   "cell_type": "code",
   "execution_count": null,
   "metadata": {
    "id": "AiO-8_CPFdZj"
   },
   "outputs": [],
   "source": [
    "def generate_data_CD(input_data_file, output_data_size, description_file, epsilon=0.5, k=1, seed=None):\n",
    "    seed = seed or randint(0, 2**30)\n",
    "    \n",
    "    describer = DataDescriber()\n",
    "    describer.describe_dataset_in_correlated_attribute_mode(input_data_file, k=k, epsilon=epsilon, seed=seed)\n",
    "    describer.save_dataset_description_to_file(description_file)\n",
    "    \n",
    "    generator = DataGenerator()\n",
    "    generator.generate_dataset_in_correlated_attribute_mode(output_data_size, description_file, seed=seed)\n",
    "    return generator.synthetic_dataset\n",
    "\n",
    "def generate_data_C(input_data_file, output_data_size, epsilon=0.1, seed=None):\n",
    "    return generate_data_CD(input_data_file, output_data_size, description_files['C'], epsilon, k=1, seed=seed)\n",
    "\n",
    "def generate_data_D(input_data_file, output_data_size, epsilon=0.1, seed=None):\n",
    "    return generate_data_CD(input_data_file, output_data_size, description_files['D'], epsilon, k=2, seed=seed)"
   ]
  },
  {
   "cell_type": "markdown",
   "metadata": {
    "id": "_ZaByotmFdZo"
   },
   "source": [
    "Start with a real dataset __hw_compas__ and a fake dataset __hw_fake__. Generate synthetic datasets of size __N=10000__, in the following four categories:\n",
    "- A:  random mode\n",
    "- B: independent attribute mode with __epsilon = 0.1__\n",
    "- C:  correlated attribute mode with __epsilon = 0.1__, Bayes net degree k=1\n",
    "- D: correlated attribute mode with __epsilon = 0.1__, Bayes net degree k=2"
   ]
  },
  {
   "cell_type": "code",
   "execution_count": null,
   "metadata": {
    "id": "GXqw1Tjl3kdb"
   },
   "outputs": [],
   "source": [
    "# Packages for reading csv file into Colaboratory:\n",
    "!pip install -U -q PyDrive==1.3.1\n",
    "\n",
    "from pydrive.auth import GoogleAuth\n",
    "from pydrive.drive import GoogleDrive\n",
    "from google.colab import auth\n",
    "from oauth2client.client import GoogleCredentials\n",
    "\n",
    "# Authenticate and create the PyDrive client. \n",
    "# Please follow the steps as instructed when you run the following commands. \n",
    "\n",
    "auth.authenticate_user()\n",
    "gauth = GoogleAuth()\n",
    "gauth.credentials = GoogleCredentials.get_application_default()\n",
    "drive = GoogleDrive(gauth)"
   ]
  },
  {
   "cell_type": "code",
   "execution_count": null,
   "metadata": {
    "id": "hecmLsCU3lsg"
   },
   "outputs": [],
   "source": [
    "fileid_compas = '1kgSIBkOM9y0nz_l8LI8ze9TAhF5gbb64'    \n",
    "real_data_file = 'hw_compas.csv'\n",
    "\n",
    "fileid_fake = '1b_T0SHQUMbVvZueZ6yXlxTKBHctMgM0k'    \n",
    "fake_data_file = 'hw_fake.csv'\n",
    "\n",
    "downloaded = drive.CreateFile({'id':fileid_compas}) \n",
    "downloaded.GetContentFile(real_data_file)  \n",
    "df_real = pd.read_csv(real_data_file)\n",
    "\n",
    "downloaded = drive.CreateFile({'id':fileid_fake}) \n",
    "downloaded.GetContentFile(fake_data_file)  \n",
    "df_fake = pd.read_csv(fake_data_file)"
   ]
  },
  {
   "cell_type": "code",
   "execution_count": null,
   "metadata": {
    "id": "cwmlF9kRFdZp"
   },
   "outputs": [],
   "source": [
    "output_data_size = 10000\n",
    "epsilon = 0.1\n",
    "\n",
    "seed = 0  # make the entire notebook reproducible\n",
    "\n",
    "description_files = {'A': './descrption_A.json', \n",
    "                     'B': './descrption_B.json', \n",
    "                     'C': './descrption_C.json', \n",
    "                     'D': './descrption_D.json'}\n",
    "\n",
    "set_random_seed(seed)\n",
    "\n",
    "df_real_A = generate_data_A(real_data_file, output_data_size)\n",
    "df_real_B = generate_data_B(real_data_file, output_data_size, epsilon=epsilon)\n",
    "df_real_C = generate_data_C(real_data_file, output_data_size, epsilon=epsilon)\n",
    "df_real_D = generate_data_D(real_data_file, output_data_size, epsilon=epsilon)\n",
    "\n",
    "df_fake_A = generate_data_A(fake_data_file, output_data_size)\n",
    "df_fake_B = generate_data_B(fake_data_file, output_data_size, epsilon=epsilon)\n",
    "df_fake_C = generate_data_C(fake_data_file, output_data_size, epsilon=epsilon)\n",
    "df_fake_D = generate_data_D(fake_data_file, output_data_size, epsilon=epsilon)\n",
    "\n",
    "clear_output()"
   ]
  },
  {
   "cell_type": "markdown",
   "metadata": {
    "id": "DyXI_gY_FdZx"
   },
   "source": [
    "Calculate the Median, Mean, Min, Max of __age__ and __score__ for each A, B, C and D. Compare to the ground truth values in __hw_compas__, present results in a table."
   ]
  },
  {
   "cell_type": "code",
   "execution_count": null,
   "metadata": {
    "colab": {
     "base_uri": "https://localhost:8080/",
     "height": 273
    },
    "id": "1uMG1X8DFdZz",
    "outputId": "d196cb54-495e-47dd-8bb1-bef78f25d935"
   },
   "outputs": [
    {
     "data": {
      "text/html": [
       "\n",
       "  <div id=\"df-deb294f3-97f7-4dc1-8b2c-49d890c0bc6e\">\n",
       "    <div class=\"colab-df-container\">\n",
       "      <div>\n",
       "<style scoped>\n",
       "    .dataframe tbody tr th:only-of-type {\n",
       "        vertical-align: middle;\n",
       "    }\n",
       "\n",
       "    .dataframe tbody tr th {\n",
       "        vertical-align: top;\n",
       "    }\n",
       "\n",
       "    .dataframe thead th {\n",
       "        text-align: right;\n",
       "    }\n",
       "</style>\n",
       "<table border=\"1\" class=\"dataframe\">\n",
       "  <thead>\n",
       "    <tr style=\"text-align: right;\">\n",
       "      <th></th>\n",
       "      <th>truth age</th>\n",
       "      <th>truth score</th>\n",
       "      <th>random real age</th>\n",
       "      <th>random real score</th>\n",
       "      <th>independent real age</th>\n",
       "      <th>independent real score</th>\n",
       "      <th>correlated k1 age</th>\n",
       "      <th>correlated k1 score</th>\n",
       "      <th>correlated k2 age</th>\n",
       "      <th>correlated k2 score</th>\n",
       "    </tr>\n",
       "  </thead>\n",
       "  <tbody>\n",
       "    <tr>\n",
       "      <th>Mean</th>\n",
       "      <td>35.143319</td>\n",
       "      <td>4.371268</td>\n",
       "      <td>50.1731</td>\n",
       "      <td>4.9392</td>\n",
       "      <td>35.7354</td>\n",
       "      <td>4.3657</td>\n",
       "      <td>41.5788</td>\n",
       "      <td>4.9487</td>\n",
       "      <td>44.1532</td>\n",
       "      <td>4.466</td>\n",
       "    </tr>\n",
       "    <tr>\n",
       "      <th>Min</th>\n",
       "      <td>18.000000</td>\n",
       "      <td>-1.000000</td>\n",
       "      <td>0.0000</td>\n",
       "      <td>-1.0000</td>\n",
       "      <td>18.0000</td>\n",
       "      <td>1.0000</td>\n",
       "      <td>18.0000</td>\n",
       "      <td>-1.0000</td>\n",
       "      <td>18.0000</td>\n",
       "      <td>-1.000</td>\n",
       "    </tr>\n",
       "    <tr>\n",
       "      <th>Max</th>\n",
       "      <td>96.000000</td>\n",
       "      <td>10.000000</td>\n",
       "      <td>100.0000</td>\n",
       "      <td>10.0000</td>\n",
       "      <td>76.0000</td>\n",
       "      <td>10.0000</td>\n",
       "      <td>96.0000</td>\n",
       "      <td>10.0000</td>\n",
       "      <td>96.0000</td>\n",
       "      <td>10.000</td>\n",
       "    </tr>\n",
       "    <tr>\n",
       "      <th>Median</th>\n",
       "      <td>32.000000</td>\n",
       "      <td>4.000000</td>\n",
       "      <td>51.0000</td>\n",
       "      <td>5.0000</td>\n",
       "      <td>33.0000</td>\n",
       "      <td>4.0000</td>\n",
       "      <td>36.0000</td>\n",
       "      <td>5.0000</td>\n",
       "      <td>39.0000</td>\n",
       "      <td>4.000</td>\n",
       "    </tr>\n",
       "  </tbody>\n",
       "</table>\n",
       "</div>\n",
       "      <button class=\"colab-df-convert\" onclick=\"convertToInteractive('df-deb294f3-97f7-4dc1-8b2c-49d890c0bc6e')\"\n",
       "              title=\"Convert this dataframe to an interactive table.\"\n",
       "              style=\"display:none;\">\n",
       "        \n",
       "  <svg xmlns=\"http://www.w3.org/2000/svg\" height=\"24px\"viewBox=\"0 0 24 24\"\n",
       "       width=\"24px\">\n",
       "    <path d=\"M0 0h24v24H0V0z\" fill=\"none\"/>\n",
       "    <path d=\"M18.56 5.44l.94 2.06.94-2.06 2.06-.94-2.06-.94-.94-2.06-.94 2.06-2.06.94zm-11 1L8.5 8.5l.94-2.06 2.06-.94-2.06-.94L8.5 2.5l-.94 2.06-2.06.94zm10 10l.94 2.06.94-2.06 2.06-.94-2.06-.94-.94-2.06-.94 2.06-2.06.94z\"/><path d=\"M17.41 7.96l-1.37-1.37c-.4-.4-.92-.59-1.43-.59-.52 0-1.04.2-1.43.59L10.3 9.45l-7.72 7.72c-.78.78-.78 2.05 0 2.83L4 21.41c.39.39.9.59 1.41.59.51 0 1.02-.2 1.41-.59l7.78-7.78 2.81-2.81c.8-.78.8-2.07 0-2.86zM5.41 20L4 18.59l7.72-7.72 1.47 1.35L5.41 20z\"/>\n",
       "  </svg>\n",
       "      </button>\n",
       "      \n",
       "  <style>\n",
       "    .colab-df-container {\n",
       "      display:flex;\n",
       "      flex-wrap:wrap;\n",
       "      gap: 12px;\n",
       "    }\n",
       "\n",
       "    .colab-df-convert {\n",
       "      background-color: #E8F0FE;\n",
       "      border: none;\n",
       "      border-radius: 50%;\n",
       "      cursor: pointer;\n",
       "      display: none;\n",
       "      fill: #1967D2;\n",
       "      height: 32px;\n",
       "      padding: 0 0 0 0;\n",
       "      width: 32px;\n",
       "    }\n",
       "\n",
       "    .colab-df-convert:hover {\n",
       "      background-color: #E2EBFA;\n",
       "      box-shadow: 0px 1px 2px rgba(60, 64, 67, 0.3), 0px 1px 3px 1px rgba(60, 64, 67, 0.15);\n",
       "      fill: #174EA6;\n",
       "    }\n",
       "\n",
       "    [theme=dark] .colab-df-convert {\n",
       "      background-color: #3B4455;\n",
       "      fill: #D2E3FC;\n",
       "    }\n",
       "\n",
       "    [theme=dark] .colab-df-convert:hover {\n",
       "      background-color: #434B5C;\n",
       "      box-shadow: 0px 1px 3px 1px rgba(0, 0, 0, 0.15);\n",
       "      filter: drop-shadow(0px 1px 2px rgba(0, 0, 0, 0.3));\n",
       "      fill: #FFFFFF;\n",
       "    }\n",
       "  </style>\n",
       "\n",
       "      <script>\n",
       "        const buttonEl =\n",
       "          document.querySelector('#df-deb294f3-97f7-4dc1-8b2c-49d890c0bc6e button.colab-df-convert');\n",
       "        buttonEl.style.display =\n",
       "          google.colab.kernel.accessAllowed ? 'block' : 'none';\n",
       "\n",
       "        async function convertToInteractive(key) {\n",
       "          const element = document.querySelector('#df-deb294f3-97f7-4dc1-8b2c-49d890c0bc6e');\n",
       "          const dataTable =\n",
       "            await google.colab.kernel.invokeFunction('convertToInteractive',\n",
       "                                                     [key], {});\n",
       "          if (!dataTable) return;\n",
       "\n",
       "          const docLinkHtml = 'Like what you see? Visit the ' +\n",
       "            '<a target=\"_blank\" href=https://colab.research.google.com/notebooks/data_table.ipynb>data table notebook</a>'\n",
       "            + ' to learn more about interactive tables.';\n",
       "          element.innerHTML = '';\n",
       "          dataTable['output_type'] = 'display_data';\n",
       "          await google.colab.output.renderOutput(dataTable, element);\n",
       "          const docLink = document.createElement('div');\n",
       "          docLink.innerHTML = docLinkHtml;\n",
       "          element.appendChild(docLink);\n",
       "        }\n",
       "      </script>\n",
       "    </div>\n",
       "  </div>\n",
       "  "
      ],
      "text/plain": [
       "        truth age  truth score  random real age  random real score  \\\n",
       "Mean    35.143319     4.371268          50.1731             4.9392   \n",
       "Min     18.000000    -1.000000           0.0000            -1.0000   \n",
       "Max     96.000000    10.000000         100.0000            10.0000   \n",
       "Median  32.000000     4.000000          51.0000             5.0000   \n",
       "\n",
       "        independent real age  independent real score  correlated k1 age  \\\n",
       "Mean                 35.7354                  4.3657            41.5788   \n",
       "Min                  18.0000                  1.0000            18.0000   \n",
       "Max                  76.0000                 10.0000            96.0000   \n",
       "Median               33.0000                  4.0000            36.0000   \n",
       "\n",
       "        correlated k1 score  correlated k2 age  correlated k2 score  \n",
       "Mean                 4.9487            44.1532                4.466  \n",
       "Min                 -1.0000            18.0000               -1.000  \n",
       "Max                 10.0000            96.0000               10.000  \n",
       "Median               5.0000            39.0000                4.000  "
      ]
     },
     "execution_count": 10,
     "metadata": {},
     "output_type": "execute_result"
    }
   ],
   "source": [
    "# Your code here\n",
    "import numpy as np\n",
    "#change this to something like this\n",
    "#t_age = [df_real.age.mean(), df_real.age.min(), df_real.age.max(), df_real.age.median()]\n",
    "t_age = np.array(df_real['age'].agg(['mean','min','max','median']))\n",
    "t_score = np.array(df_real['score'].agg(['mean','min','max','median']))\n",
    "ind_r_age = np.array(df_real_B['age'].agg(['mean','min','max','median']))\n",
    "ind_r_score = np.array(df_real_B['score'].agg(['mean','min','max','median']))\n",
    "rand_r_age = np.array(df_real_A['age'].agg(['mean','min','max','median']))\n",
    "rand_r_score = np.array(df_real_A['score'].agg(['mean','min','max','median']))\n",
    "corr_r_k2_age = np.array(df_real_D['age'].agg(['mean','min','max','median']))\n",
    "corr_r_k2_score = np.array(df_real_D['score'].agg(['mean','min','max','median']))\n",
    "corr_r_k1_age = np.array(df_real_C['age'].agg(['mean','min','max','median']))\n",
    "corr_r_k1_score = np.array(df_real_C['score'].agg(['mean','min','max','median']))\n",
    "\n",
    "answer_1 = pd.DataFrame(index = ['Mean', 'Min', 'Max', 'Median'],\n",
    "                          columns = ['truth age', 'truth score', 'random real age', 'random real score', \n",
    "                                     'independent real age', 'independent real score', 'correlated k1 age', 'correlated k1 score',\n",
    "                                     'correlated k2 age', 'correlated k2 score'])\n",
    "answer_1['truth age'] = t_age\n",
    "answer_1['truth score'] = t_score\n",
    "\n",
    "answer_1['random real age']= rand_r_age\n",
    "answer_1['random real score'] = rand_r_score\n",
    "\n",
    "answer_1['independent real age'] = ind_r_age\n",
    "answer_1['independent real score'] = ind_r_score\n",
    "\n",
    "answer_1['correlated k1 age'] = corr_r_k1_age\n",
    "answer_1['correlated k1 score'] = corr_r_k1_score\n",
    "\n",
    "answer_1['correlated k2 age'] = corr_r_k2_age\n",
    "answer_1['correlated k2 score'] = corr_r_k2_score\n",
    "\n",
    "answer_1\n"
   ]
  },
  {
   "cell_type": "markdown",
   "metadata": {
    "id": "ZFgyc2B4FdZ6"
   },
   "source": [
    "\n",
    "Plot histograms of the age attribute in hw_compas and in synthetic datasets generated under settings A and B."
   ]
  },
  {
   "cell_type": "code",
   "execution_count": null,
   "metadata": {
    "colab": {
     "base_uri": "https://localhost:8080/",
     "height": 301
    },
    "id": "o205liPDg6RY",
    "outputId": "31ce8801-d7f6-4a33-88ec-6b87052f683c"
   },
   "outputs": [
    {
     "data": {
      "image/png": "[encoded data removed]",
      "text/plain": [
       "<Figure size 432x288 with 1 Axes>"
      ]
     },
     "metadata": {
      "needs_background": "light"
     },
     "output_type": "display_data"
    }
   ],
   "source": [
    "#add color argument into line below\n",
    "#ie: plt.hist(df_real.age, color = 'green')\n",
    "plt.hist(df_real['age'])\n",
    "title = 'Real Data Age Distribution'\n",
    "plt.title(title)\n",
    "plt.xlabel('Frequency')\n",
    "plt.ylabel('Age')\n",
    "color='green'\n",
    "plt.plot(color=color)\n",
    "plt.show()"
   ]
  },
  {
   "cell_type": "code",
   "execution_count": null,
   "metadata": {
    "colab": {
     "base_uri": "https://localhost:8080/",
     "height": 349
    },
    "id": "1n4koBUgiDrg",
    "outputId": "72f237e1-3bf7-4144-c592-a9f8809fa5ab"
   },
   "outputs": [
    {
     "data": {
      "text/plain": [
       "<matplotlib.axes._subplots.AxesSubplot at 0x7fb6cd67ff90>"
      ]
     },
     "execution_count": 12,
     "metadata": {},
     "output_type": "execute_result"
    },
    {
     "data": {
      "image/png": "[encoded data removed]",
      "text/plain": [
       "<Figure size 432x288 with 1 Axes>"
      ]
     },
     "metadata": {
      "needs_background": "light"
     },
     "output_type": "display_data"
    }
   ],
   "source": [
    "df_real.sex.value_counts().plot(kind = 'bar', title = 'Real Data Sex Distribution', xlabel = 'Sex', ylabel = 'Frequency')"
   ]
  },
  {
   "cell_type": "markdown",
   "metadata": {
    "id": "rS_R-bDGweX6"
   },
   "source": [
    "Create bar plots for the sex attribute in hw_compas and in synthetic datasets generated under settings A and B."
   ]
  },
  {
   "cell_type": "code",
   "execution_count": null,
   "metadata": {
    "colab": {
     "base_uri": "https://localhost:8080/",
     "height": 301
    },
    "id": "g6CiLtG6jYaQ",
    "outputId": "0b968d5f-d622-43a4-9958-c599dbdb1e5a"
   },
   "outputs": [
    {
     "data": {
      "image/png": "[encoded data removed]",
      "text/plain": [
       "<Figure size 432x288 with 1 Axes>"
      ]
     },
     "metadata": {
      "needs_background": "light"
     },
     "output_type": "display_data"
    }
   ],
   "source": [
    "plt.hist(df_real_A['age'])\n",
    "title = 'Random Data Age Distribution'\n",
    "plt.title(title)\n",
    "plt.xlabel('Frequency')\n",
    "plt.ylabel('Age')\n",
    "plt.show()"
   ]
  },
  {
   "cell_type": "code",
   "execution_count": null,
   "metadata": {
    "colab": {
     "base_uri": "https://localhost:8080/",
     "height": 349
    },
    "id": "Syxm_5LLjlln",
    "outputId": "516d7dce-921a-4b5c-931c-a6f40bce6e2b"
   },
   "outputs": [
    {
     "data": {
      "text/plain": [
       "<matplotlib.axes._subplots.AxesSubplot at 0x7fb6cd5f2590>"
      ]
     },
     "execution_count": 14,
     "metadata": {},
     "output_type": "execute_result"
    },
    {
     "data": {
      "image/png": "[encoded data removed]",
      "text/plain": [
       "<Figure size 432x288 with 1 Axes>"
      ]
     },
     "metadata": {
      "needs_background": "light"
     },
     "output_type": "display_data"
    }
   ],
   "source": [
    "df_real_A.sex.value_counts().plot(kind = 'bar', title = 'Random Data Sex Distribution', xlabel = 'Sex', ylabel = 'Frequency')"
   ]
  },
  {
   "cell_type": "code",
   "execution_count": null,
   "metadata": {
    "colab": {
     "base_uri": "https://localhost:8080/",
     "height": 301
    },
    "id": "wffx6z_ojqV6",
    "outputId": "b7590089-f9af-43ed-c817-0c140752db95"
   },
   "outputs": [
    {
     "data": {
      "image/png": "[encoded data removed]",
      "text/plain": [
       "<Figure size 432x288 with 1 Axes>"
      ]
     },
     "metadata": {
      "needs_background": "light"
     },
     "output_type": "display_data"
    }
   ],
   "source": [
    "plt.hist(df_real_B['age'])\n",
    "title = 'Independent Real Data Age Distribution'\n",
    "plt.title(title)\n",
    "plt.xlabel('Frequency')\n",
    "plt.ylabel('Age')\n",
    "plt.show()"
   ]
  },
  {
   "cell_type": "code",
   "execution_count": null,
   "metadata": {
    "colab": {
     "base_uri": "https://localhost:8080/",
     "height": 349
    },
    "id": "vW1DCqfLjxJg",
    "outputId": "1c09af7d-9996-4f46-a88f-44ca9c9d2c2a"
   },
   "outputs": [
    {
     "data": {
      "text/plain": [
       "<matplotlib.axes._subplots.AxesSubplot at 0x7fb6cd57f050>"
      ]
     },
     "execution_count": 16,
     "metadata": {},
     "output_type": "execute_result"
    },
    {
     "data": {
      "image/png": "[encoded data removed]",
      "text/plain": [
       "<Figure size 432x288 with 1 Axes>"
      ]
     },
     "metadata": {
      "needs_background": "light"
     },
     "output_type": "display_data"
    }
   ],
   "source": [
    "df_real_B.sex.value_counts().plot(kind = 'bar', title = 'Independent Real Data Sex Distribution', xlabel = 'Sex', ylabel = 'Frequency')"
   ]
  },
  {
   "cell_type": "markdown",
   "metadata": {
    "id": "E1-tiJN2wNPk"
   },
   "source": [
    "\n",
    "The functions below can be used to compute two statistical measures: __Two-sample Kolmogorov–Smirnov test__ and __KL-divergence__."
   ]
  },
  {
   "cell_type": "markdown",
   "metadata": {
    "id": "g-Or3PInFdan"
   },
   "source": [
    "### Two-sample Kolmogorov–Smirnov test for continuous attributes\n",
    "\n",
    "Use the `ks_test` function to run the Kolomogorov-Smirnov test on the age attribute. You should first test `df_real` against `df_real_A` and then test `df_real` against `df_real_B`."
   ]
  },
  {
   "cell_type": "code",
   "execution_count": null,
   "metadata": {
    "id": "yTzh1CM6Fdap"
   },
   "outputs": [],
   "source": [
    "def ks_test(df_in: pd.DataFrame, df_out: pd.DataFrame, attr: str):\n",
    "    \"\"\"\n",
    "    df_in: the sensitive dataset\n",
    "    df_out: the synthetic dataset\n",
    "    attr: the attribute that will be calculated for Two-sample Kolmogorov–Smirnov test\n",
    "    \"\"\"\n",
    "    return ks_2samp(df_in[attr], df_out[attr])[0]"
   ]
  },
  {
   "cell_type": "code",
   "execution_count": null,
   "metadata": {
    "colab": {
     "base_uri": "https://localhost:8080/"
    },
    "id": "ZeqtORgGFdZ7",
    "outputId": "53f83bd6-862f-4a8a-e727-dfc33f748397"
   },
   "outputs": [
    {
     "name": "stdout",
     "output_type": "stream",
     "text": [
      " KS test for age between Truth and Random:  0.3735091775112699 \n",
      " KS test for age between Truth and Independent:  0.026252445351705345\n"
     ]
    }
   ],
   "source": [
    "# Your code here\n",
    "#split this into KS+KL combo\n",
    "#ie: print the KS+KL scores for df_real_A in one cell, then again for df_real_B\n",
    "df_real_A_ks_test = ks_test(df_real,df_real_A,'age')\n",
    "df_real_B_ks_test = ks_test(df_real,df_real_B,'age')\n",
    "print(f' KS test for age between Truth and Random:  {df_real_A_ks_test} ')\n",
    "print(f' KS test for age between Truth and Independent:  {df_real_B_ks_test}')\n"
   ]
  },
  {
   "cell_type": "markdown",
   "metadata": {
    "id": "X1eUjSSxFda3"
   },
   "source": [
    "### KL-divergence for categorical attributes\n",
    "\n",
    "Use the `kl_test` function to calculate the KL-divergence on the sex attribute. You should first run `df_real` against `df_real_A` and then run `df_real` against `df_real_B`."
   ]
  },
  {
   "cell_type": "code",
   "execution_count": null,
   "metadata": {
    "id": "cidvm1mAFda3"
   },
   "outputs": [],
   "source": [
    "def get_distribution_of_categorical_attribute(attribute: pd.Series, indicies=None):\n",
    "    distribution = attribute.dropna().value_counts()\n",
    "    if indicies is not None:\n",
    "        for idx in set(indicies) - set(distribution.index):\n",
    "            distribution.loc[idx] = 0\n",
    "    distribution.sort_index(inplace=True)\n",
    "    return distribution/sum(distribution)\n",
    "\n",
    "def kl_test(df_in: pd.DataFrame, df_out: pd.DataFrame, attr: str):\n",
    "    \"\"\"\n",
    "    df_in: the sensitive dataset\n",
    "    df_out: the synthetic dataset\n",
    "    attr: the attribute that will be calculated for KL-divergence.\n",
    "    \"\"\"\n",
    "    distribution_in = get_distribution_of_categorical_attribute(df_in[attr])\n",
    "    distribution_out = get_distribution_of_categorical_attribute(df_out[attr], distribution_in.index)\n",
    "    return entropy(distribution_out, distribution_in)"
   ]
  },
  {
   "cell_type": "code",
   "execution_count": null,
   "metadata": {
    "colab": {
     "base_uri": "https://localhost:8080/"
    },
    "id": "xnABu9ADRcI0",
    "outputId": "43a6df0d-6765-4613-db30-fbd8b0368b8f"
   },
   "outputs": [
    {
     "name": "stdout",
     "output_type": "stream",
     "text": [
      " KL test for age between Truth and Random:  0.22319792405369002 \n",
      " KL test for age between Truth and Independent:  0.0002494300869420041\n"
     ]
    }
   ],
   "source": [
    "# Your code here\n",
    "df_real_A_kl_test = kl_test(df_real,df_real_A,'sex')\n",
    "df_real_B_kl_test = kl_test(df_real,df_real_B,'sex')\n",
    "\n",
    "print(f' KL test for age between Truth and Random:  {df_real_A_kl_test} ')\n",
    "print(f' KL test for age between Truth and Independent:  {df_real_B_kl_test}')"
   ]
  },
  {
   "cell_type": "code",
   "execution_count": null,
   "metadata": {},
   "outputs": [],
   "source": [
    "df_real_A_ks_test = ks_test(df_real,df_real_A,'age')\n",
    "print(f' KL test for age between Truth and Random:  {df_real_A_kl_test} ')\n",
    "df_real_A_kl_test = kl_test(df_real,df_real_A,'sex')\n",
    "print(f' KL test for age between Truth and Random:  {df_real_A_kl_test} ')"
   ]
  },
  {
   "cell_type": "markdown",
   "metadata": {
    "id": "XKzIAfI9FdbD"
   },
   "source": [
    "\n",
    "Calculate the pairwise mutual information matrix for `df_fake`, `df_fake_C`, and `df_fake_D`."
   ]
  },
  {
   "cell_type": "code",
   "execution_count": null,
   "metadata": {
    "id": "NNd9mfMOVXrA"
   },
   "outputs": [],
   "source": [
    "# Use pairwise_attributes_mutual_information function\n",
    "# For function parameters, refer to https://github.com/DataResponsibly/DataSynthesizer/blob/master/DataSynthesizer/lib/utils.py#L31\n",
    "\n",
    "# Your code here\n",
    "\n",
    "import json\n",
    "import random\n",
    "from string import ascii_lowercase\n",
    "\n",
    "import numpy as np\n",
    "from pandas import Series, DataFrame\n",
    "from sklearn.metrics import mutual_info_score, normalized_mutual_info_score\n",
    "\n",
    "def mutual_information(labels_x: pd.Series, labels_y: pd.DataFrame):\n",
    "    \"\"\"Mutual information of distributions in format of Series or DataFrame.\n",
    "    Parameters\n",
    "    ----------\n",
    "    labels_x : Series\n",
    "    labels_y : DataFrame\n",
    "    \"\"\"\n",
    "    if labels_y.shape[1] == 1:\n",
    "        labels_y = labels_y.iloc[:, 0]\n",
    "    else:\n",
    "        labels_y = labels_y.apply(lambda x: ' '.join(x.values), axis=1)\n",
    "\n",
    "    return mutual_info_score(labels_x, labels_y)\n",
    "\n",
    "\n",
    "def pairwise_attributes_mutual_information(dataset):\n",
    "    \"\"\"Compute normalized mutual information for all pairwise attributes. Return a DataFrame.\"\"\"\n",
    "    sorted_columns = sorted(dataset.columns)\n",
    "    mi_df = pd.DataFrame(columns=sorted_columns, index=sorted_columns, dtype=float)\n",
    "    for row in mi_df.columns:\n",
    "        for col in mi_df.columns:\n",
    "            mi_df.loc[row, col] = normalized_mutual_info_score(dataset[row].astype(str),\n",
    "                                                               dataset[col].astype(str),\n",
    "                                                               average_method='arithmetic')\n",
    "    return mi_df\n",
    "  \n",
    "pw = pairwise_attributes_mutual_information(df_fake)\n",
    "pw_k1 = pairwise_attributes_mutual_information(df_fake_C)\n",
    "pw_k2 = pairwise_attributes_mutual_information(df_fake_D)"
   ]
  },
  {
   "cell_type": "markdown",
   "metadata": {
    "id": "Fsz-HYl8W6Jb"
   },
   "source": [
    "Plot each pairwise mutual information matrix below using `sns.heatmap`. You should set `vmax=1` and `vmin=0` in your call to `sns.heatmap`."
   ]
  },
  {
   "cell_type": "code",
   "execution_count": null,
   "metadata": {
    "colab": {
     "base_uri": "https://localhost:8080/",
     "height": 664
    },
    "id": "beIDrJn3VYbS",
    "outputId": "e8b04b2a-3a12-43c0-ccb2-1355c1618b9a"
   },
   "outputs": [
    {
     "name": "stdout",
     "output_type": "stream",
     "text": [
      "Pairwise Mutual Information:\n",
      "           child_1   child_2  parent_1  parent_2\n",
      "child_1   1.000000  0.211242  0.214345  0.195899\n",
      "child_2   0.211242  1.000000  0.208301  0.200690\n",
      "parent_1  0.214345  0.208301  1.000000  0.002421\n",
      "parent_2  0.195899  0.200690  0.002421  1.000000\n"
     ]
    },
    {
     "data": {
      "image/png": "[encoded data removed]",
      "text/plain": [
       "<Figure size 792x648 with 2 Axes>"
      ]
     },
     "metadata": {},
     "output_type": "display_data"
    }
   ],
   "source": [
    "# Use can sns.heatmap for pairwise mutual information\n",
    "# For examples, refer to https://seaborn.pydata.org/generated/seaborn.heatmap.html\n",
    "\n",
    "# Your code here\n",
    "print('Pairwise Mutual Information:')\n",
    "print(pw)\n",
    "sns.set_theme(style=\"darkgrid\")\n",
    "# Generate a mask for the upper triangle\n",
    "mask = np.triu(np.ones_like(pw, dtype=bool))\n",
    "# Set up the matplotlib figure\n",
    "ax1 = plt.subplots(figsize=(11, 9))\n",
    "# Generate a custom diverging colormap\n",
    "c = sns.diverging_palette(230, 20, as_cmap=True)\n",
    "# Draw the heatmap with the mask and correct aspect ratio\n",
    "ax = plt.axes()\n",
    "sns.heatmap(pw, mask=mask,cmap=\"Oranges\",center=0, vmin=.002,vmax=.25,\n",
    "            square=True, linewidths=.5, cbar_kws={\"shrink\": .5},ax=ax,annot=True)\n",
    "ax.set_title('df_fake Pairwise Mutual Information Heatmap')\n",
    "plt.show()"
   ]
  },
  {
   "cell_type": "code",
   "execution_count": null,
   "metadata": {
    "colab": {
     "base_uri": "https://localhost:8080/",
     "height": 664
    },
    "id": "pCaZOst_ubYm",
    "outputId": "7cfca9cd-c53d-4b16-efff-c68bb97f153a"
   },
   "outputs": [
    {
     "name": "stdout",
     "output_type": "stream",
     "text": [
      "Pairwise w/ Correlation k=1:\n",
      "           child_1   child_2  parent_1  parent_2\n",
      "child_1   1.000000  0.229400  0.070395  0.026739\n",
      "child_2   0.229400  1.000000  0.249762  0.114695\n",
      "parent_1  0.070395  0.249762  1.000000  0.028520\n",
      "parent_2  0.026739  0.114695  0.028520  1.000000\n"
     ]
    },
    {
     "data": {
      "image/png": "[encoded data removed]",
      "text/plain": [
       "<Figure size 792x648 with 2 Axes>"
      ]
     },
     "metadata": {},
     "output_type": "display_data"
    }
   ],
   "source": [
    "print('Pairwise w/ Correlation k=1:')\n",
    "print(pw_k1)\n",
    "sns.set_theme(style=\"darkgrid\")\n",
    "# Generate a mask for the upper triangle\n",
    "mask = np.triu(np.ones_like(pw_k1, dtype=bool))\n",
    "# Set up the matplotlib figure\n",
    "ax = plt.subplots(figsize=(11, 9))\n",
    "# Generate a custom diverging colormap\n",
    "c = sns.diverging_palette(230, 20, as_cmap=True)\n",
    "# Draw the heatmap with the mask and correct aspect ratio\n",
    "ax = plt.axes()\n",
    "sns.heatmap(pw_k1, mask=mask, cmap=\"Oranges\",center=0,vmin=.002,vmax=.25,\n",
    "           square=True, linewidths=.5, cbar_kws={\"shrink\": .5},ax=ax,annot=True)\n",
    "ax.set_title('df_fake Pairwise Mutual Information Heatmap w/ Correlation Attribute k=1')\n",
    "plt.show()"
   ]
  },
  {
   "cell_type": "code",
   "execution_count": null,
   "metadata": {
    "colab": {
     "base_uri": "https://localhost:8080/",
     "height": 664
    },
    "id": "fp-RUD-c3eA9",
    "outputId": "0571d3c6-eaf7-46ab-879d-348b5b6ceb66"
   },
   "outputs": [
    {
     "name": "stdout",
     "output_type": "stream",
     "text": [
      "Pairwise w/ Correlation k=2:\n",
      "           child_1   child_2  parent_1  parent_2\n",
      "child_1   1.000000  0.074153  0.034209  0.221418\n",
      "child_2   0.074153  1.000000  0.203135  0.110479\n",
      "parent_1  0.034209  0.203135  1.000000  0.073704\n",
      "parent_2  0.221418  0.110479  0.073704  1.000000\n"
     ]
    },
    {
     "data": {
      "image/png": "[encoded data removed]",
      "text/plain": [
       "<Figure size 792x648 with 2 Axes>"
      ]
     },
     "metadata": {},
     "output_type": "display_data"
    }
   ],
   "source": [
    "print('Pairwise w/ Correlation k=2:')\n",
    "print(pw_k2)\n",
    "sns.set_theme(style=\"darkgrid\")\n",
    "# Generate a mask for the upper triangle\n",
    "mask = np.triu(np.ones_like(pw_k1, dtype=bool))\n",
    "# Set up the matplotlib figure\n",
    "ax = plt.subplots(figsize=(11, 9))\n",
    "# Generate a custom diverging colormap\n",
    "c = sns.diverging_palette(230, 20, as_cmap=True)\n",
    "# Draw the heatmap with the mask and correct aspect ratio\n",
    "ax = plt.axes()\n",
    "sns.heatmap(pw_k1, mask=mask, cmap=\"Oranges\",center=0,vmin=.002,vmax=.25,\n",
    "           square=True, linewidths=.5, cbar_kws={\"shrink\": .5},ax=ax,annot=True)\n",
    "ax.set_title('df_fake Pairwise Mutual Information Heatmap w/ Correlation Attribute k=2')\n",
    "plt.show()"
   ]
  },
  {
   "cell_type": "markdown",
   "metadata": {
    "id": "FpoWEnYTFdbb"
   },
   "source": [
    "\n",
    "With epsilon = 0.1, generate __10__ synthetic datasets for each of mode A, B, and C by specifying different seeds. (You should generate 30 datasets in total: 10 for setting A, 10 for setting B, 10 for setting C). Calculate the mean and median in each dataset. We recommend using a for loop here, e.g. `for rep in range(10):`"
   ]
  },
  {
   "cell_type": "code",
   "execution_count": null,
   "metadata": {
    "colab": {
     "base_uri": "https://localhost:8080/"
    },
    "id": "hWMK9CkmZkPP",
    "outputId": "a1acadb6-9e5d-4d1f-c219-25b204e0fc61"
   },
   "outputs": [
    {
     "name": "stdout",
     "output_type": "stream",
     "text": [
      "================ Constructing Bayesian Network (BN) ================\n",
      "Adding ROOT score\n",
      "Adding attribute age\n",
      "Adding attribute race\n",
      "Adding attribute sex\n",
      "========================== BN constructed ==========================\n",
      "Constructed Bayesian network:\n",
      "    age  has parents ['score'].\n",
      "    race has parents ['score'].\n",
      "    sex  has parents ['age'].\n",
      "================ Constructing Bayesian Network (BN) ================\n",
      "Adding ROOT score\n",
      "Adding attribute age\n",
      "Adding attribute race\n",
      "Adding attribute sex\n",
      "========================== BN constructed ==========================\n",
      "Constructed Bayesian network:\n",
      "    age  has parents ['score'].\n",
      "    race has parents ['score'].\n",
      "    sex  has parents ['age'].\n",
      "================ Constructing Bayesian Network (BN) ================\n",
      "Adding ROOT score\n",
      "Adding attribute age\n",
      "Adding attribute race\n",
      "Adding attribute sex\n",
      "========================== BN constructed ==========================\n",
      "Constructed Bayesian network:\n",
      "    age  has parents ['score'].\n",
      "    race has parents ['score'].\n",
      "    sex  has parents ['age'].\n",
      "================ Constructing Bayesian Network (BN) ================\n",
      "Adding ROOT score\n",
      "Adding attribute age\n",
      "Adding attribute race\n",
      "Adding attribute sex\n",
      "========================== BN constructed ==========================\n",
      "Constructed Bayesian network:\n",
      "    age  has parents ['score'].\n",
      "    race has parents ['score'].\n",
      "    sex  has parents ['age'].\n",
      "================ Constructing Bayesian Network (BN) ================\n",
      "Adding ROOT score\n",
      "Adding attribute age\n",
      "Adding attribute race\n",
      "Adding attribute sex\n",
      "========================== BN constructed ==========================\n",
      "Constructed Bayesian network:\n",
      "    age  has parents ['score'].\n",
      "    race has parents ['score'].\n",
      "    sex  has parents ['age'].\n",
      "================ Constructing Bayesian Network (BN) ================\n",
      "Adding ROOT score\n",
      "Adding attribute age\n",
      "Adding attribute race\n",
      "Adding attribute sex\n",
      "========================== BN constructed ==========================\n",
      "Constructed Bayesian network:\n",
      "    age  has parents ['score'].\n",
      "    race has parents ['score'].\n",
      "    sex  has parents ['age'].\n",
      "================ Constructing Bayesian Network (BN) ================\n",
      "Adding ROOT score\n",
      "Adding attribute age\n",
      "Adding attribute race\n",
      "Adding attribute sex\n",
      "========================== BN constructed ==========================\n",
      "Constructed Bayesian network:\n",
      "    age  has parents ['score'].\n",
      "    race has parents ['score'].\n",
      "    sex  has parents ['age'].\n",
      "================ Constructing Bayesian Network (BN) ================\n",
      "Adding ROOT score\n",
      "Adding attribute age\n",
      "Adding attribute race\n",
      "Adding attribute sex\n",
      "========================== BN constructed ==========================\n",
      "Constructed Bayesian network:\n",
      "    age  has parents ['score'].\n",
      "    race has parents ['score'].\n",
      "    sex  has parents ['age'].\n",
      "================ Constructing Bayesian Network (BN) ================\n",
      "Adding ROOT score\n",
      "Adding attribute age\n",
      "Adding attribute race\n",
      "Adding attribute sex\n",
      "========================== BN constructed ==========================\n",
      "Constructed Bayesian network:\n",
      "    age  has parents ['score'].\n",
      "    race has parents ['score'].\n",
      "    sex  has parents ['age'].\n",
      "================ Constructing Bayesian Network (BN) ================\n",
      "Adding ROOT score\n",
      "Adding attribute age\n",
      "Adding attribute race\n",
      "Adding attribute sex\n",
      "========================== BN constructed ==========================\n",
      "Constructed Bayesian network:\n",
      "    age  has parents ['score'].\n",
      "    race has parents ['score'].\n",
      "    sex  has parents ['age'].\n"
     ]
    }
   ],
   "source": [
    "set_random_seed(seed) # this will specify different seeds\n",
    "dc = {'Mode':[],'Data':[],'Median': [],'Mean': [], 'Min': [],'Max': []}\n",
    "  \n",
    "result = pd.DataFrame(dc)\n",
    "\n",
    "describer = DataDescriber()\n",
    "generator = DataGenerator()\n",
    "\n",
    "for rep in range(10):\n",
    "  # Your code here\n",
    "  synth_files = {\n",
    "                      'independent attribute mode':    'synthetic data(independent attribute mode).csv',\n",
    "                     'correlated attribute mode k1':     'synthetic data(correlated attribute mode k1).csv',\n",
    "                     'random mode':     'synthetic data(random mode).csv'}\n",
    "  desc_files = {\n",
    "                     'independent attribute mode':    'description(independent).json',\n",
    "                     'correlated attribute mode k1':     'description(correlated k1).json',\n",
    "                     'random mode':     'description(random mode).json'}\n",
    "  s = randint(0,100)\n",
    "  \n",
    " \n",
    "  ##independent \n",
    "  describer.describe_dataset_in_independent_attribute_mode(real_data_file, epsilon=0.1)\n",
    "  describer.save_dataset_description_to_file(desc_files['independent attribute mode'])\n",
    "\n",
    "  generator.generate_dataset_in_independent_mode(n=output_data_size, \n",
    "                                          description_file=desc_files['independent attribute mode'], \n",
    "                                          seed=seed)\n",
    "  \n",
    "  generator.save_synthetic_data(synth_files['independent attribute mode'])\n",
    "  i = pd.read_csv(synth_files['independent attribute mode'])\n",
    "   \n",
    "  \n",
    "  d = {'Mode': 'Independent','Data': i,'Median': i.age.median(),'Mean':i.age.mean(),'Min':i.age.min(),'Max':i.age.max()}\n",
    "  result = result.append(d, ignore_index = True)\n",
    "\n",
    "\n",
    "  seed= randint(0,100)\n",
    "  \n",
    "  #Correlated k=1\n",
    "  describer.describe_dataset_in_correlated_attribute_mode(real_data_file, \n",
    "                                                        epsilon=0.1, \n",
    "                                                        k=1)\n",
    "\n",
    "  display_bayesian_network(describer.bayesian_network)\n",
    "  describer.save_dataset_description_to_file(desc_files['correlated attribute mode k1'])\n",
    "\n",
    "  generator.generate_dataset_in_correlated_attribute_mode(n=output_data_size,\n",
    "                                                        description_file=desc_files['correlated attribute mode k1'],\n",
    "                                                        seed=seed)\n",
    "  generator.save_synthetic_data(synth_files['correlated attribute mode k1'])\n",
    "  c_k1 = pd.read_csv(synth_files['correlated attribute mode k1'])\n",
    "\n",
    "  d = {'Mode': 'Correlated K=1','Data': c_k1,'Median': c_k1.age.median(),'Mean':c_k1.age.mean(),'Min':c_k1.age.min(),'Max':c_k1.age.max()}\n",
    "  result = result.append(d, ignore_index = True)\n",
    "\n",
    "  s = randint(0,100)\n",
    "  \n",
    "  #Random\n",
    "  describer.describe_dataset_in_random_mode(real_data_file)\n",
    "  describer.save_dataset_description_to_file(desc_files['random mode'])\n",
    "\n",
    "  generator.generate_dataset_in_random_mode(n=output_data_size, \n",
    "                                          description_file=desc_files['random mode'], \n",
    "                                          seed=seed)\n",
    "\n",
    "  generator.save_synthetic_data(synth_files['random mode'])\n",
    "  r = pd.read_csv(synth_files['random mode'])\n",
    " \n",
    "  d = {'Mode': 'Random','Data': r,'Median': r.age.median(),'Mean':r.age.mean(),'Min':r.age.min(),'Max':r.age.max()}\n",
    "  result = result.append(d, ignore_index = True)\n"
   ]
  },
  {
   "cell_type": "markdown",
   "metadata": {
    "id": "EYGz8C_2Zl2q"
   },
   "source": [
    "Plot the mean and the median values as box-and-whiskers plots. You should have two plots: one for the mean and one for the median. Put the mode (A, B, C) on the x-axis. The median/mean should be on the y-axis."
   ]
  },
  {
   "cell_type": "code",
   "execution_count": null,
   "metadata": {
    "colab": {
     "base_uri": "https://localhost:8080/",
     "height": 303
    },
    "id": "xTEwLoi0Fdbb",
    "outputId": "8a7d28cf-3955-4de1-8736-ad44e0e79de8"
   },
   "outputs": [
    {
     "data": {
      "text/plain": [
       "<matplotlib.axes._subplots.AxesSubplot at 0x7fb6c98f37d0>"
      ]
     },
     "execution_count": 38,
     "metadata": {},
     "output_type": "execute_result"
    },
    {
     "data": {
      "image/png": "[encoded data removed]",
      "text/plain": [
       "<Figure size 432x288 with 1 Axes>"
      ]
     },
     "metadata": {},
     "output_type": "display_data"
    }
   ],
   "source": [
    "# You can use sns.boxplot for the plots\n",
    "# For examples, refer to https://seaborn.pydata.org/generated/seaborn.boxplot.html\n",
    "\n",
    "# Your code here\n",
    "\n",
    "sns.boxplot(y=result[\"Median\"], x=result[\"Mode\"], color='magenta')"
   ]
  },
  {
   "cell_type": "code",
   "execution_count": null,
   "metadata": {
    "colab": {
     "base_uri": "https://localhost:8080/",
     "height": 303
    },
    "id": "o3evRV3pf2fb",
    "outputId": "2c9270ce-d35b-42d0-9d7f-e4495d99676f"
   },
   "outputs": [
    {
     "data": {
      "text/plain": [
       "<matplotlib.axes._subplots.AxesSubplot at 0x7fb6c8f6f490>"
      ]
     },
     "execution_count": 43,
     "metadata": {},
     "output_type": "execute_result"
    },
    {
     "data": {
      "image/png": "[encoded data removed]",
      "text/plain": [
       "<Figure size 432x288 with 1 Axes>"
      ]
     },
     "metadata": {},
     "output_type": "display_data"
    }
   ],
   "source": [
    "sns.boxplot(y=result[\"Mean\"], x=result[\"Mode\"], color='cyan')"
   ]
  },
  {
   "cell_type": "markdown",
   "metadata": {
    "id": "UINl2ivCFdbk"
   },
   "source": [
    "Study how the KL-divergence of the race attribute changes for settings B, C, and D as you vary your privacy budget __epsilon__ = [0.02, 0.04, ... , 0.1]. For each setting B, C, D, you should generate 10 synthetic data sets for each epsilon value (a total of 3 * 10 * 5 = 150 datasets). \n",
    "\n",
    "Hint: We recommend using a nested for loop and have provided some starter code in the cell below. You may use a different approach as you see fit."
   ]
  },
  {
   "cell_type": "code",
   "execution_count": null,
   "metadata": {
    "colab": {
     "base_uri": "https://localhost:8080/"
    },
    "id": "m1bao_uxFdbl",
    "outputId": "3ce779ff-62f0-49df-82b9-033bc1dc652f"
   },
   "outputs": [
    {
     "name": "stdout",
     "output_type": "stream",
     "text": [
      "~~~ i=0, epsilon=0.02 ~~~\n",
      "================ Constructing Bayesian Network (BN) ================\n",
      "Adding ROOT score\n",
      "Adding attribute age\n",
      "Adding attribute race\n",
      "Adding attribute sex\n",
      "========================== BN constructed ==========================\n",
      "Constructed Bayesian network:\n",
      "    age  has parents ['score'].\n",
      "    race has parents ['score'].\n",
      "    sex  has parents ['age'].\n",
      "================ Constructing Bayesian Network (BN) ================\n",
      "Adding ROOT score\n",
      "Adding attribute age\n",
      "Adding attribute race\n",
      "Adding attribute sex\n",
      "========================== BN constructed ==========================\n",
      "Constructed Bayesian network:\n",
      "    age  has parents ['score'].\n",
      "    race has parents ['age', 'score'].\n",
      "    sex  has parents ['race', 'score'].\n",
      "================ Constructing Bayesian Network (BN) ================\n",
      "Adding ROOT age\n",
      "Adding attribute race\n",
      "Adding attribute score\n",
      "Adding attribute sex\n",
      "========================== BN constructed ==========================\n",
      "Constructed Bayesian network:\n",
      "    race  has parents ['age'].\n",
      "    score has parents ['age'].\n",
      "    sex   has parents ['age'].\n",
      "================ Constructing Bayesian Network (BN) ================\n",
      "Adding ROOT age\n",
      "Adding attribute race\n",
      "Adding attribute score\n",
      "Adding attribute sex\n",
      "========================== BN constructed ==========================\n",
      "Constructed Bayesian network:\n",
      "    race  has parents ['age'].\n",
      "    score has parents ['race', 'age'].\n",
      "    sex   has parents ['race', 'age'].\n",
      "================ Constructing Bayesian Network (BN) ================\n",
      "Adding ROOT sex\n",
      "Adding attribute race\n",
      "Adding attribute age\n",
      "Adding attribute score\n",
      "========================== BN constructed ==========================\n",
      "Constructed Bayesian network:\n",
      "    race  has parents ['sex'].\n",
      "    age   has parents ['sex'].\n",
      "    score has parents ['race'].\n",
      "================ Constructing Bayesian Network (BN) ================\n",
      "Adding ROOT sex\n",
      "Adding attribute race\n",
      "Adding attribute age\n",
      "Adding attribute score\n",
      "========================== BN constructed ==========================\n",
      "Constructed Bayesian network:\n",
      "    race  has parents ['sex'].\n",
      "    age   has parents ['race', 'sex'].\n",
      "    score has parents ['age', 'sex'].\n",
      "================ Constructing Bayesian Network (BN) ================\n",
      "Adding ROOT age\n",
      "Adding attribute race\n",
      "Adding attribute score\n",
      "Adding attribute sex\n",
      "========================== BN constructed ==========================\n",
      "Constructed Bayesian network:\n",
      "    race  has parents ['age'].\n",
      "    score has parents ['age'].\n",
      "    sex   has parents ['age'].\n",
      "================ Constructing Bayesian Network (BN) ================\n",
      "Adding ROOT age\n",
      "Adding attribute race\n",
      "Adding attribute score\n",
      "Adding attribute sex\n",
      "========================== BN constructed ==========================\n",
      "Constructed Bayesian network:\n",
      "    race  has parents ['age'].\n",
      "    score has parents ['race', 'age'].\n",
      "    sex   has parents ['race', 'age'].\n",
      "================ Constructing Bayesian Network (BN) ================\n",
      "Adding ROOT age\n",
      "Adding attribute score\n",
      "Adding attribute race\n",
      "Adding attribute sex\n",
      "========================== BN constructed ==========================\n",
      "Constructed Bayesian network:\n",
      "    score has parents ['age'].\n",
      "    race  has parents ['age'].\n",
      "    sex   has parents ['race'].\n",
      "================ Constructing Bayesian Network (BN) ================\n",
      "Adding ROOT age\n",
      "Adding attribute score\n",
      "Adding attribute race\n",
      "Adding attribute sex\n",
      "========================== BN constructed ==========================\n",
      "Constructed Bayesian network:\n",
      "    score has parents ['age'].\n",
      "    race  has parents ['score', 'age'].\n",
      "    sex   has parents ['race', 'score'].\n",
      "================ Constructing Bayesian Network (BN) ================\n",
      "Adding ROOT race\n",
      "Adding attribute sex\n",
      "Adding attribute score\n",
      "Adding attribute age\n",
      "========================== BN constructed ==========================\n",
      "Constructed Bayesian network:\n",
      "    sex   has parents ['race'].\n",
      "    score has parents ['sex'].\n",
      "    age   has parents ['race'].\n",
      "================ Constructing Bayesian Network (BN) ================\n",
      "Adding ROOT race\n",
      "Adding attribute sex\n",
      "Adding attribute score\n",
      "Adding attribute age\n",
      "========================== BN constructed ==========================\n",
      "Constructed Bayesian network:\n",
      "    sex   has parents ['race'].\n",
      "    score has parents ['sex', 'race'].\n",
      "    age   has parents ['sex', 'race'].\n",
      "================ Constructing Bayesian Network (BN) ================\n",
      "Adding ROOT sex\n",
      "Adding attribute score\n",
      "Adding attribute age\n",
      "Adding attribute race\n",
      "========================== BN constructed ==========================\n",
      "Constructed Bayesian network:\n",
      "    score has parents ['sex'].\n",
      "    age   has parents ['score'].\n",
      "    race  has parents ['age'].\n",
      "================ Constructing Bayesian Network (BN) ================\n",
      "Adding ROOT sex\n",
      "Adding attribute score\n",
      "Adding attribute age\n",
      "Adding attribute race\n",
      "========================== BN constructed ==========================\n",
      "Constructed Bayesian network:\n",
      "    score has parents ['sex'].\n",
      "    age   has parents ['score', 'sex'].\n",
      "    race  has parents ['age', 'score'].\n",
      "================ Constructing Bayesian Network (BN) ================\n",
      "Adding ROOT race\n",
      "Adding attribute sex\n",
      "Adding attribute score\n",
      "Adding attribute age\n",
      "========================== BN constructed ==========================\n",
      "Constructed Bayesian network:\n",
      "    sex   has parents ['race'].\n",
      "    score has parents ['sex'].\n",
      "    age   has parents ['sex'].\n",
      "================ Constructing Bayesian Network (BN) ================\n",
      "Adding ROOT race\n",
      "Adding attribute sex\n",
      "Adding attribute score\n",
      "Adding attribute age\n",
      "========================== BN constructed ==========================\n",
      "Constructed Bayesian network:\n",
      "    sex   has parents ['race'].\n",
      "    score has parents ['sex', 'race'].\n",
      "    age   has parents ['score', 'race'].\n",
      "================ Constructing Bayesian Network (BN) ================\n",
      "Adding ROOT age\n",
      "Adding attribute score\n",
      "Adding attribute race\n",
      "Adding attribute sex\n",
      "========================== BN constructed ==========================\n",
      "Constructed Bayesian network:\n",
      "    score has parents ['age'].\n",
      "    race  has parents ['score'].\n",
      "    sex   has parents ['race'].\n",
      "================ Constructing Bayesian Network (BN) ================\n",
      "Adding ROOT age\n",
      "Adding attribute score\n",
      "Adding attribute race\n",
      "Adding attribute sex\n",
      "========================== BN constructed ==========================\n",
      "Constructed Bayesian network:\n",
      "    score has parents ['age'].\n",
      "    race  has parents ['score', 'age'].\n",
      "    sex   has parents ['race', 'score'].\n",
      "================ Constructing Bayesian Network (BN) ================\n",
      "Adding ROOT score\n",
      "Adding attribute sex\n",
      "Adding attribute age\n",
      "Adding attribute race\n",
      "========================== BN constructed ==========================\n",
      "Constructed Bayesian network:\n",
      "    sex  has parents ['score'].\n",
      "    age  has parents ['sex'].\n",
      "    race has parents ['sex'].\n",
      "================ Constructing Bayesian Network (BN) ================\n",
      "Adding ROOT score\n",
      "Adding attribute sex\n",
      "Adding attribute age\n",
      "Adding attribute race\n",
      "========================== BN constructed ==========================\n",
      "Constructed Bayesian network:\n",
      "    sex  has parents ['score'].\n",
      "    age  has parents ['sex', 'score'].\n",
      "    race has parents ['age', 'score'].\n",
      "~~~ i=1, epsilon=0.04 ~~~\n",
      "================ Constructing Bayesian Network (BN) ================\n",
      "Adding ROOT score\n",
      "Adding attribute age\n",
      "Adding attribute race\n",
      "Adding attribute sex\n",
      "========================== BN constructed ==========================\n",
      "Constructed Bayesian network:\n",
      "    age  has parents ['score'].\n",
      "    race has parents ['score'].\n",
      "    sex  has parents ['age'].\n",
      "================ Constructing Bayesian Network (BN) ================\n",
      "Adding ROOT score\n",
      "Adding attribute age\n",
      "Adding attribute race\n",
      "Adding attribute sex\n",
      "========================== BN constructed ==========================\n",
      "Constructed Bayesian network:\n",
      "    age  has parents ['score'].\n",
      "    race has parents ['age', 'score'].\n",
      "    sex  has parents ['race', 'score'].\n",
      "================ Constructing Bayesian Network (BN) ================\n",
      "Adding ROOT age\n",
      "Adding attribute race\n",
      "Adding attribute score\n",
      "Adding attribute sex\n",
      "========================== BN constructed ==========================\n",
      "Constructed Bayesian network:\n",
      "    race  has parents ['age'].\n",
      "    score has parents ['age'].\n",
      "    sex   has parents ['age'].\n",
      "================ Constructing Bayesian Network (BN) ================\n",
      "Adding ROOT age\n",
      "Adding attribute race\n",
      "Adding attribute score\n",
      "Adding attribute sex\n",
      "========================== BN constructed ==========================\n",
      "Constructed Bayesian network:\n",
      "    race  has parents ['age'].\n",
      "    score has parents ['race', 'age'].\n",
      "    sex   has parents ['race', 'age'].\n",
      "================ Constructing Bayesian Network (BN) ================\n",
      "Adding ROOT sex\n",
      "Adding attribute race\n",
      "Adding attribute age\n",
      "Adding attribute score\n",
      "========================== BN constructed ==========================\n",
      "Constructed Bayesian network:\n",
      "    race  has parents ['sex'].\n",
      "    age   has parents ['sex'].\n",
      "    score has parents ['race'].\n",
      "================ Constructing Bayesian Network (BN) ================\n",
      "Adding ROOT sex\n",
      "Adding attribute race\n",
      "Adding attribute age\n",
      "Adding attribute score\n",
      "========================== BN constructed ==========================\n",
      "Constructed Bayesian network:\n",
      "    race  has parents ['sex'].\n",
      "    age   has parents ['race', 'sex'].\n",
      "    score has parents ['age', 'sex'].\n",
      "================ Constructing Bayesian Network (BN) ================\n",
      "Adding ROOT age\n",
      "Adding attribute race\n",
      "Adding attribute score\n",
      "Adding attribute sex\n",
      "========================== BN constructed ==========================\n",
      "Constructed Bayesian network:\n",
      "    race  has parents ['age'].\n",
      "    score has parents ['age'].\n",
      "    sex   has parents ['age'].\n",
      "================ Constructing Bayesian Network (BN) ================\n",
      "Adding ROOT age\n",
      "Adding attribute race\n",
      "Adding attribute score\n",
      "Adding attribute sex\n",
      "========================== BN constructed ==========================\n",
      "Constructed Bayesian network:\n",
      "    race  has parents ['age'].\n",
      "    score has parents ['race', 'age'].\n",
      "    sex   has parents ['race', 'age'].\n",
      "================ Constructing Bayesian Network (BN) ================\n",
      "Adding ROOT age\n",
      "Adding attribute score\n",
      "Adding attribute race\n",
      "Adding attribute sex\n",
      "========================== BN constructed ==========================\n",
      "Constructed Bayesian network:\n",
      "    score has parents ['age'].\n",
      "    race  has parents ['age'].\n",
      "    sex   has parents ['race'].\n",
      "================ Constructing Bayesian Network (BN) ================\n",
      "Adding ROOT age\n",
      "Adding attribute score\n",
      "Adding attribute race\n",
      "Adding attribute sex\n",
      "========================== BN constructed ==========================\n",
      "Constructed Bayesian network:\n",
      "    score has parents ['age'].\n",
      "    race  has parents ['score', 'age'].\n",
      "    sex   has parents ['race', 'score'].\n",
      "================ Constructing Bayesian Network (BN) ================\n",
      "Adding ROOT race\n",
      "Adding attribute sex\n",
      "Adding attribute score\n",
      "Adding attribute age\n",
      "========================== BN constructed ==========================\n",
      "Constructed Bayesian network:\n",
      "    sex   has parents ['race'].\n",
      "    score has parents ['sex'].\n",
      "    age   has parents ['race'].\n",
      "================ Constructing Bayesian Network (BN) ================\n",
      "Adding ROOT race\n",
      "Adding attribute sex\n",
      "Adding attribute score\n",
      "Adding attribute age\n",
      "========================== BN constructed ==========================\n",
      "Constructed Bayesian network:\n",
      "    sex   has parents ['race'].\n",
      "    score has parents ['sex', 'race'].\n",
      "    age   has parents ['sex', 'race'].\n",
      "================ Constructing Bayesian Network (BN) ================\n",
      "Adding ROOT sex\n",
      "Adding attribute score\n",
      "Adding attribute age\n",
      "Adding attribute race\n",
      "========================== BN constructed ==========================\n",
      "Constructed Bayesian network:\n",
      "    score has parents ['sex'].\n",
      "    age   has parents ['score'].\n",
      "    race  has parents ['age'].\n",
      "================ Constructing Bayesian Network (BN) ================\n",
      "Adding ROOT sex\n",
      "Adding attribute score\n",
      "Adding attribute age\n",
      "Adding attribute race\n",
      "========================== BN constructed ==========================\n",
      "Constructed Bayesian network:\n",
      "    score has parents ['sex'].\n",
      "    age   has parents ['score', 'sex'].\n",
      "    race  has parents ['age', 'score'].\n",
      "================ Constructing Bayesian Network (BN) ================\n",
      "Adding ROOT race\n",
      "Adding attribute sex\n",
      "Adding attribute score\n",
      "Adding attribute age\n",
      "========================== BN constructed ==========================\n",
      "Constructed Bayesian network:\n",
      "    sex   has parents ['race'].\n",
      "    score has parents ['sex'].\n",
      "    age   has parents ['sex'].\n",
      "================ Constructing Bayesian Network (BN) ================\n",
      "Adding ROOT race\n",
      "Adding attribute sex\n",
      "Adding attribute score\n",
      "Adding attribute age\n",
      "========================== BN constructed ==========================\n",
      "Constructed Bayesian network:\n",
      "    sex   has parents ['race'].\n",
      "    score has parents ['sex', 'race'].\n",
      "    age   has parents ['score', 'race'].\n",
      "================ Constructing Bayesian Network (BN) ================\n",
      "Adding ROOT age\n",
      "Adding attribute score\n",
      "Adding attribute race\n",
      "Adding attribute sex\n",
      "========================== BN constructed ==========================\n",
      "Constructed Bayesian network:\n",
      "    score has parents ['age'].\n",
      "    race  has parents ['score'].\n",
      "    sex   has parents ['race'].\n",
      "================ Constructing Bayesian Network (BN) ================\n",
      "Adding ROOT age\n",
      "Adding attribute score\n",
      "Adding attribute race\n",
      "Adding attribute sex\n",
      "========================== BN constructed ==========================\n",
      "Constructed Bayesian network:\n",
      "    score has parents ['age'].\n",
      "    race  has parents ['score', 'age'].\n",
      "    sex   has parents ['race', 'score'].\n",
      "================ Constructing Bayesian Network (BN) ================\n",
      "Adding ROOT score\n",
      "Adding attribute sex\n",
      "Adding attribute age\n",
      "Adding attribute race\n",
      "========================== BN constructed ==========================\n",
      "Constructed Bayesian network:\n",
      "    sex  has parents ['score'].\n",
      "    age  has parents ['sex'].\n",
      "    race has parents ['sex'].\n",
      "================ Constructing Bayesian Network (BN) ================\n",
      "Adding ROOT score\n",
      "Adding attribute sex\n",
      "Adding attribute age\n",
      "Adding attribute race\n",
      "========================== BN constructed ==========================\n",
      "Constructed Bayesian network:\n",
      "    sex  has parents ['score'].\n",
      "    age  has parents ['sex', 'score'].\n",
      "    race has parents ['age', 'score'].\n",
      "~~~ i=2, epsilon=0.06 ~~~\n",
      "================ Constructing Bayesian Network (BN) ================\n",
      "Adding ROOT score\n",
      "Adding attribute age\n",
      "Adding attribute race\n",
      "Adding attribute sex\n",
      "========================== BN constructed ==========================\n",
      "Constructed Bayesian network:\n",
      "    age  has parents ['score'].\n",
      "    race has parents ['score'].\n",
      "    sex  has parents ['age'].\n",
      "================ Constructing Bayesian Network (BN) ================\n",
      "Adding ROOT score\n",
      "Adding attribute age\n",
      "Adding attribute race\n",
      "Adding attribute sex\n",
      "========================== BN constructed ==========================\n",
      "Constructed Bayesian network:\n",
      "    age  has parents ['score'].\n",
      "    race has parents ['age', 'score'].\n",
      "    sex  has parents ['race', 'score'].\n",
      "================ Constructing Bayesian Network (BN) ================\n",
      "Adding ROOT age\n",
      "Adding attribute race\n",
      "Adding attribute score\n",
      "Adding attribute sex\n",
      "========================== BN constructed ==========================\n",
      "Constructed Bayesian network:\n",
      "    race  has parents ['age'].\n",
      "    score has parents ['age'].\n",
      "    sex   has parents ['age'].\n",
      "================ Constructing Bayesian Network (BN) ================\n",
      "Adding ROOT age\n",
      "Adding attribute race\n",
      "Adding attribute score\n",
      "Adding attribute sex\n",
      "========================== BN constructed ==========================\n",
      "Constructed Bayesian network:\n",
      "    race  has parents ['age'].\n",
      "    score has parents ['race', 'age'].\n",
      "    sex   has parents ['race', 'age'].\n",
      "================ Constructing Bayesian Network (BN) ================\n",
      "Adding ROOT sex\n",
      "Adding attribute race\n",
      "Adding attribute age\n",
      "Adding attribute score\n",
      "========================== BN constructed ==========================\n",
      "Constructed Bayesian network:\n",
      "    race  has parents ['sex'].\n",
      "    age   has parents ['sex'].\n",
      "    score has parents ['race'].\n",
      "================ Constructing Bayesian Network (BN) ================\n",
      "Adding ROOT sex\n",
      "Adding attribute race\n",
      "Adding attribute age\n",
      "Adding attribute score\n",
      "========================== BN constructed ==========================\n",
      "Constructed Bayesian network:\n",
      "    race  has parents ['sex'].\n",
      "    age   has parents ['race', 'sex'].\n",
      "    score has parents ['age', 'sex'].\n",
      "================ Constructing Bayesian Network (BN) ================\n",
      "Adding ROOT age\n",
      "Adding attribute race\n",
      "Adding attribute score\n",
      "Adding attribute sex\n",
      "========================== BN constructed ==========================\n",
      "Constructed Bayesian network:\n",
      "    race  has parents ['age'].\n",
      "    score has parents ['age'].\n",
      "    sex   has parents ['age'].\n",
      "================ Constructing Bayesian Network (BN) ================\n",
      "Adding ROOT age\n",
      "Adding attribute race\n",
      "Adding attribute score\n",
      "Adding attribute sex\n",
      "========================== BN constructed ==========================\n",
      "Constructed Bayesian network:\n",
      "    race  has parents ['age'].\n",
      "    score has parents ['race', 'age'].\n",
      "    sex   has parents ['race', 'age'].\n",
      "================ Constructing Bayesian Network (BN) ================\n",
      "Adding ROOT age\n",
      "Adding attribute score\n",
      "Adding attribute race\n",
      "Adding attribute sex\n",
      "========================== BN constructed ==========================\n",
      "Constructed Bayesian network:\n",
      "    score has parents ['age'].\n",
      "    race  has parents ['age'].\n",
      "    sex   has parents ['race'].\n",
      "================ Constructing Bayesian Network (BN) ================\n",
      "Adding ROOT age\n",
      "Adding attribute score\n",
      "Adding attribute race\n",
      "Adding attribute sex\n",
      "========================== BN constructed ==========================\n",
      "Constructed Bayesian network:\n",
      "    score has parents ['age'].\n",
      "    race  has parents ['score', 'age'].\n",
      "    sex   has parents ['race', 'score'].\n",
      "================ Constructing Bayesian Network (BN) ================\n",
      "Adding ROOT race\n",
      "Adding attribute sex\n",
      "Adding attribute score\n",
      "Adding attribute age\n",
      "========================== BN constructed ==========================\n",
      "Constructed Bayesian network:\n",
      "    sex   has parents ['race'].\n",
      "    score has parents ['sex'].\n",
      "    age   has parents ['race'].\n",
      "================ Constructing Bayesian Network (BN) ================\n",
      "Adding ROOT race\n",
      "Adding attribute sex\n",
      "Adding attribute score\n",
      "Adding attribute age\n",
      "========================== BN constructed ==========================\n",
      "Constructed Bayesian network:\n",
      "    sex   has parents ['race'].\n",
      "    score has parents ['sex', 'race'].\n",
      "    age   has parents ['sex', 'race'].\n",
      "================ Constructing Bayesian Network (BN) ================\n",
      "Adding ROOT sex\n",
      "Adding attribute score\n",
      "Adding attribute age\n",
      "Adding attribute race\n",
      "========================== BN constructed ==========================\n",
      "Constructed Bayesian network:\n",
      "    score has parents ['sex'].\n",
      "    age   has parents ['score'].\n",
      "    race  has parents ['age'].\n",
      "================ Constructing Bayesian Network (BN) ================\n",
      "Adding ROOT sex\n",
      "Adding attribute score\n",
      "Adding attribute age\n",
      "Adding attribute race\n",
      "========================== BN constructed ==========================\n",
      "Constructed Bayesian network:\n",
      "    score has parents ['sex'].\n",
      "    age   has parents ['score', 'sex'].\n",
      "    race  has parents ['age', 'score'].\n",
      "================ Constructing Bayesian Network (BN) ================\n",
      "Adding ROOT race\n",
      "Adding attribute sex\n",
      "Adding attribute score\n",
      "Adding attribute age\n",
      "========================== BN constructed ==========================\n",
      "Constructed Bayesian network:\n",
      "    sex   has parents ['race'].\n",
      "    score has parents ['sex'].\n",
      "    age   has parents ['sex'].\n",
      "================ Constructing Bayesian Network (BN) ================\n",
      "Adding ROOT race\n",
      "Adding attribute sex\n",
      "Adding attribute score\n",
      "Adding attribute age\n",
      "========================== BN constructed ==========================\n",
      "Constructed Bayesian network:\n",
      "    sex   has parents ['race'].\n",
      "    score has parents ['sex', 'race'].\n",
      "    age   has parents ['score', 'race'].\n",
      "================ Constructing Bayesian Network (BN) ================\n",
      "Adding ROOT age\n",
      "Adding attribute score\n",
      "Adding attribute race\n",
      "Adding attribute sex\n",
      "========================== BN constructed ==========================\n",
      "Constructed Bayesian network:\n",
      "    score has parents ['age'].\n",
      "    race  has parents ['score'].\n",
      "    sex   has parents ['race'].\n",
      "================ Constructing Bayesian Network (BN) ================\n",
      "Adding ROOT age\n",
      "Adding attribute score\n",
      "Adding attribute race\n",
      "Adding attribute sex\n",
      "========================== BN constructed ==========================\n",
      "Constructed Bayesian network:\n",
      "    score has parents ['age'].\n",
      "    race  has parents ['score', 'age'].\n",
      "    sex   has parents ['race', 'score'].\n",
      "================ Constructing Bayesian Network (BN) ================\n",
      "Adding ROOT score\n",
      "Adding attribute sex\n",
      "Adding attribute age\n",
      "Adding attribute race\n",
      "========================== BN constructed ==========================\n",
      "Constructed Bayesian network:\n",
      "    sex  has parents ['score'].\n",
      "    age  has parents ['sex'].\n",
      "    race has parents ['sex'].\n",
      "================ Constructing Bayesian Network (BN) ================\n",
      "Adding ROOT score\n",
      "Adding attribute sex\n",
      "Adding attribute age\n",
      "Adding attribute race\n",
      "========================== BN constructed ==========================\n",
      "Constructed Bayesian network:\n",
      "    sex  has parents ['score'].\n",
      "    age  has parents ['sex', 'score'].\n",
      "    race has parents ['age', 'score'].\n",
      "~~~ i=3, epsilon=0.08 ~~~\n",
      "================ Constructing Bayesian Network (BN) ================\n",
      "Adding ROOT score\n",
      "Adding attribute age\n",
      "Adding attribute race\n",
      "Adding attribute sex\n",
      "========================== BN constructed ==========================\n",
      "Constructed Bayesian network:\n",
      "    age  has parents ['score'].\n",
      "    race has parents ['score'].\n",
      "    sex  has parents ['age'].\n",
      "================ Constructing Bayesian Network (BN) ================\n",
      "Adding ROOT score\n",
      "Adding attribute age\n",
      "Adding attribute race\n",
      "Adding attribute sex\n",
      "========================== BN constructed ==========================\n",
      "Constructed Bayesian network:\n",
      "    age  has parents ['score'].\n",
      "    race has parents ['age', 'score'].\n",
      "    sex  has parents ['race', 'score'].\n",
      "================ Constructing Bayesian Network (BN) ================\n",
      "Adding ROOT age\n",
      "Adding attribute race\n",
      "Adding attribute score\n",
      "Adding attribute sex\n",
      "========================== BN constructed ==========================\n",
      "Constructed Bayesian network:\n",
      "    race  has parents ['age'].\n",
      "    score has parents ['age'].\n",
      "    sex   has parents ['age'].\n",
      "================ Constructing Bayesian Network (BN) ================\n",
      "Adding ROOT age\n",
      "Adding attribute race\n",
      "Adding attribute score\n",
      "Adding attribute sex\n",
      "========================== BN constructed ==========================\n",
      "Constructed Bayesian network:\n",
      "    race  has parents ['age'].\n",
      "    score has parents ['race', 'age'].\n",
      "    sex   has parents ['race', 'age'].\n",
      "================ Constructing Bayesian Network (BN) ================\n",
      "Adding ROOT sex\n",
      "Adding attribute race\n",
      "Adding attribute age\n",
      "Adding attribute score\n",
      "========================== BN constructed ==========================\n",
      "Constructed Bayesian network:\n",
      "    race  has parents ['sex'].\n",
      "    age   has parents ['sex'].\n",
      "    score has parents ['race'].\n",
      "================ Constructing Bayesian Network (BN) ================\n",
      "Adding ROOT sex\n",
      "Adding attribute race\n",
      "Adding attribute age\n",
      "Adding attribute score\n",
      "========================== BN constructed ==========================\n",
      "Constructed Bayesian network:\n",
      "    race  has parents ['sex'].\n",
      "    age   has parents ['race', 'sex'].\n",
      "    score has parents ['age', 'sex'].\n",
      "================ Constructing Bayesian Network (BN) ================\n",
      "Adding ROOT age\n",
      "Adding attribute score\n",
      "Adding attribute race\n",
      "Adding attribute sex\n",
      "========================== BN constructed ==========================\n",
      "Constructed Bayesian network:\n",
      "    score has parents ['age'].\n",
      "    race  has parents ['age'].\n",
      "    sex   has parents ['age'].\n",
      "================ Constructing Bayesian Network (BN) ================\n",
      "Adding ROOT age\n",
      "Adding attribute score\n",
      "Adding attribute race\n",
      "Adding attribute sex\n",
      "========================== BN constructed ==========================\n",
      "Constructed Bayesian network:\n",
      "    score has parents ['age'].\n",
      "    race  has parents ['score', 'age'].\n",
      "    sex   has parents ['score', 'age'].\n",
      "================ Constructing Bayesian Network (BN) ================\n",
      "Adding ROOT age\n",
      "Adding attribute score\n",
      "Adding attribute race\n",
      "Adding attribute sex\n",
      "========================== BN constructed ==========================\n",
      "Constructed Bayesian network:\n",
      "    score has parents ['age'].\n",
      "    race  has parents ['age'].\n",
      "    sex   has parents ['race'].\n",
      "================ Constructing Bayesian Network (BN) ================\n",
      "Adding ROOT age\n",
      "Adding attribute score\n",
      "Adding attribute race\n",
      "Adding attribute sex\n",
      "========================== BN constructed ==========================\n",
      "Constructed Bayesian network:\n",
      "    score has parents ['age'].\n",
      "    race  has parents ['score', 'age'].\n",
      "    sex   has parents ['race', 'score'].\n",
      "================ Constructing Bayesian Network (BN) ================\n",
      "Adding ROOT race\n",
      "Adding attribute sex\n",
      "Adding attribute score\n",
      "Adding attribute age\n",
      "========================== BN constructed ==========================\n",
      "Constructed Bayesian network:\n",
      "    sex   has parents ['race'].\n",
      "    score has parents ['sex'].\n",
      "    age   has parents ['race'].\n",
      "================ Constructing Bayesian Network (BN) ================\n",
      "Adding ROOT race\n",
      "Adding attribute sex\n",
      "Adding attribute score\n",
      "Adding attribute age\n",
      "========================== BN constructed ==========================\n",
      "Constructed Bayesian network:\n",
      "    sex   has parents ['race'].\n",
      "    score has parents ['sex', 'race'].\n",
      "    age   has parents ['sex', 'race'].\n",
      "================ Constructing Bayesian Network (BN) ================\n",
      "Adding ROOT sex\n",
      "Adding attribute score\n",
      "Adding attribute age\n",
      "Adding attribute race\n",
      "========================== BN constructed ==========================\n",
      "Constructed Bayesian network:\n",
      "    score has parents ['sex'].\n",
      "    age   has parents ['score'].\n",
      "    race  has parents ['age'].\n",
      "================ Constructing Bayesian Network (BN) ================\n",
      "Adding ROOT sex\n",
      "Adding attribute score\n",
      "Adding attribute age\n",
      "Adding attribute race\n",
      "========================== BN constructed ==========================\n",
      "Constructed Bayesian network:\n",
      "    score has parents ['sex'].\n",
      "    age   has parents ['score', 'sex'].\n",
      "    race  has parents ['age', 'score'].\n",
      "================ Constructing Bayesian Network (BN) ================\n",
      "Adding ROOT race\n",
      "Adding attribute sex\n",
      "Adding attribute score\n",
      "Adding attribute age\n",
      "========================== BN constructed ==========================\n",
      "Constructed Bayesian network:\n",
      "    sex   has parents ['race'].\n",
      "    score has parents ['sex'].\n",
      "    age   has parents ['sex'].\n",
      "================ Constructing Bayesian Network (BN) ================\n",
      "Adding ROOT race\n",
      "Adding attribute sex\n",
      "Adding attribute score\n",
      "Adding attribute age\n",
      "========================== BN constructed ==========================\n",
      "Constructed Bayesian network:\n",
      "    sex   has parents ['race'].\n",
      "    score has parents ['sex', 'race'].\n",
      "    age   has parents ['score', 'race'].\n",
      "================ Constructing Bayesian Network (BN) ================\n",
      "Adding ROOT age\n",
      "Adding attribute score\n",
      "Adding attribute race\n",
      "Adding attribute sex\n",
      "========================== BN constructed ==========================\n",
      "Constructed Bayesian network:\n",
      "    score has parents ['age'].\n",
      "    race  has parents ['score'].\n",
      "    sex   has parents ['race'].\n",
      "================ Constructing Bayesian Network (BN) ================\n",
      "Adding ROOT age\n",
      "Adding attribute score\n",
      "Adding attribute race\n",
      "Adding attribute sex\n",
      "========================== BN constructed ==========================\n",
      "Constructed Bayesian network:\n",
      "    score has parents ['age'].\n",
      "    race  has parents ['score', 'age'].\n",
      "    sex   has parents ['race', 'score'].\n",
      "================ Constructing Bayesian Network (BN) ================\n",
      "Adding ROOT score\n",
      "Adding attribute sex\n",
      "Adding attribute age\n",
      "Adding attribute race\n",
      "========================== BN constructed ==========================\n",
      "Constructed Bayesian network:\n",
      "    sex  has parents ['score'].\n",
      "    age  has parents ['sex'].\n",
      "    race has parents ['sex'].\n",
      "================ Constructing Bayesian Network (BN) ================\n",
      "Adding ROOT score\n",
      "Adding attribute sex\n",
      "Adding attribute age\n",
      "Adding attribute race\n",
      "========================== BN constructed ==========================\n",
      "Constructed Bayesian network:\n",
      "    sex  has parents ['score'].\n",
      "    age  has parents ['sex', 'score'].\n",
      "    race has parents ['age', 'score'].\n",
      "~~~ i=4, epsilon=0.1 ~~~\n",
      "================ Constructing Bayesian Network (BN) ================\n",
      "Adding ROOT score\n",
      "Adding attribute age\n",
      "Adding attribute race\n",
      "Adding attribute sex\n",
      "========================== BN constructed ==========================\n",
      "Constructed Bayesian network:\n",
      "    age  has parents ['score'].\n",
      "    race has parents ['score'].\n",
      "    sex  has parents ['age'].\n",
      "================ Constructing Bayesian Network (BN) ================\n",
      "Adding ROOT score\n",
      "Adding attribute age\n",
      "Adding attribute race\n",
      "Adding attribute sex\n",
      "========================== BN constructed ==========================\n",
      "Constructed Bayesian network:\n",
      "    age  has parents ['score'].\n",
      "    race has parents ['age', 'score'].\n",
      "    sex  has parents ['race', 'score'].\n",
      "================ Constructing Bayesian Network (BN) ================\n",
      "Adding ROOT age\n",
      "Adding attribute race\n",
      "Adding attribute score\n",
      "Adding attribute sex\n",
      "========================== BN constructed ==========================\n",
      "Constructed Bayesian network:\n",
      "    race  has parents ['age'].\n",
      "    score has parents ['age'].\n",
      "    sex   has parents ['age'].\n",
      "================ Constructing Bayesian Network (BN) ================\n",
      "Adding ROOT age\n",
      "Adding attribute race\n",
      "Adding attribute score\n",
      "Adding attribute sex\n",
      "========================== BN constructed ==========================\n",
      "Constructed Bayesian network:\n",
      "    race  has parents ['age'].\n",
      "    score has parents ['race', 'age'].\n",
      "    sex   has parents ['race', 'age'].\n",
      "================ Constructing Bayesian Network (BN) ================\n",
      "Adding ROOT sex\n",
      "Adding attribute race\n",
      "Adding attribute age\n",
      "Adding attribute score\n",
      "========================== BN constructed ==========================\n",
      "Constructed Bayesian network:\n",
      "    race  has parents ['sex'].\n",
      "    age   has parents ['sex'].\n",
      "    score has parents ['age'].\n",
      "================ Constructing Bayesian Network (BN) ================\n",
      "Adding ROOT sex\n",
      "Adding attribute race\n",
      "Adding attribute age\n",
      "Adding attribute score\n",
      "========================== BN constructed ==========================\n",
      "Constructed Bayesian network:\n",
      "    race  has parents ['sex'].\n",
      "    age   has parents ['race', 'sex'].\n",
      "    score has parents ['age', 'race'].\n",
      "================ Constructing Bayesian Network (BN) ================\n",
      "Adding ROOT age\n",
      "Adding attribute score\n",
      "Adding attribute race\n",
      "Adding attribute sex\n",
      "========================== BN constructed ==========================\n",
      "Constructed Bayesian network:\n",
      "    score has parents ['age'].\n",
      "    race  has parents ['score'].\n",
      "    sex   has parents ['age'].\n",
      "================ Constructing Bayesian Network (BN) ================\n",
      "Adding ROOT age\n",
      "Adding attribute score\n",
      "Adding attribute race\n",
      "Adding attribute sex\n",
      "========================== BN constructed ==========================\n",
      "Constructed Bayesian network:\n",
      "    score has parents ['age'].\n",
      "    race  has parents ['score', 'age'].\n",
      "    sex   has parents ['score', 'age'].\n",
      "================ Constructing Bayesian Network (BN) ================\n",
      "Adding ROOT age\n",
      "Adding attribute score\n",
      "Adding attribute race\n",
      "Adding attribute sex\n",
      "========================== BN constructed ==========================\n",
      "Constructed Bayesian network:\n",
      "    score has parents ['age'].\n",
      "    race  has parents ['age'].\n",
      "    sex   has parents ['race'].\n",
      "================ Constructing Bayesian Network (BN) ================\n",
      "Adding ROOT age\n",
      "Adding attribute score\n",
      "Adding attribute race\n",
      "Adding attribute sex\n",
      "========================== BN constructed ==========================\n",
      "Constructed Bayesian network:\n",
      "    score has parents ['age'].\n",
      "    race  has parents ['score', 'age'].\n",
      "    sex   has parents ['race', 'score'].\n",
      "================ Constructing Bayesian Network (BN) ================\n",
      "Adding ROOT race\n",
      "Adding attribute sex\n",
      "Adding attribute score\n",
      "Adding attribute age\n",
      "========================== BN constructed ==========================\n",
      "Constructed Bayesian network:\n",
      "    sex   has parents ['race'].\n",
      "    score has parents ['sex'].\n",
      "    age   has parents ['race'].\n",
      "================ Constructing Bayesian Network (BN) ================\n",
      "Adding ROOT race\n",
      "Adding attribute sex\n",
      "Adding attribute score\n",
      "Adding attribute age\n",
      "========================== BN constructed ==========================\n",
      "Constructed Bayesian network:\n",
      "    sex   has parents ['race'].\n",
      "    score has parents ['sex', 'race'].\n",
      "    age   has parents ['score', 'race'].\n",
      "================ Constructing Bayesian Network (BN) ================\n",
      "Adding ROOT sex\n",
      "Adding attribute score\n",
      "Adding attribute age\n",
      "Adding attribute race\n",
      "========================== BN constructed ==========================\n",
      "Constructed Bayesian network:\n",
      "    score has parents ['sex'].\n",
      "    age   has parents ['score'].\n",
      "    race  has parents ['age'].\n",
      "================ Constructing Bayesian Network (BN) ================\n",
      "Adding ROOT sex\n",
      "Adding attribute score\n",
      "Adding attribute age\n",
      "Adding attribute race\n",
      "========================== BN constructed ==========================\n",
      "Constructed Bayesian network:\n",
      "    score has parents ['sex'].\n",
      "    age   has parents ['score', 'sex'].\n",
      "    race  has parents ['age', 'score'].\n",
      "================ Constructing Bayesian Network (BN) ================\n",
      "Adding ROOT race\n",
      "Adding attribute sex\n",
      "Adding attribute score\n",
      "Adding attribute age\n",
      "========================== BN constructed ==========================\n",
      "Constructed Bayesian network:\n",
      "    sex   has parents ['race'].\n",
      "    score has parents ['sex'].\n",
      "    age   has parents ['sex'].\n",
      "================ Constructing Bayesian Network (BN) ================\n",
      "Adding ROOT race\n",
      "Adding attribute sex\n",
      "Adding attribute score\n",
      "Adding attribute age\n",
      "========================== BN constructed ==========================\n",
      "Constructed Bayesian network:\n",
      "    sex   has parents ['race'].\n",
      "    score has parents ['sex', 'race'].\n",
      "    age   has parents ['score', 'race'].\n",
      "================ Constructing Bayesian Network (BN) ================\n",
      "Adding ROOT age\n",
      "Adding attribute score\n",
      "Adding attribute race\n",
      "Adding attribute sex\n",
      "========================== BN constructed ==========================\n",
      "Constructed Bayesian network:\n",
      "    score has parents ['age'].\n",
      "    race  has parents ['score'].\n",
      "    sex   has parents ['race'].\n",
      "================ Constructing Bayesian Network (BN) ================\n",
      "Adding ROOT age\n",
      "Adding attribute score\n",
      "Adding attribute race\n",
      "Adding attribute sex\n",
      "========================== BN constructed ==========================\n",
      "Constructed Bayesian network:\n",
      "    score has parents ['age'].\n",
      "    race  has parents ['score', 'age'].\n",
      "    sex   has parents ['race', 'score'].\n",
      "================ Constructing Bayesian Network (BN) ================\n",
      "Adding ROOT score\n",
      "Adding attribute sex\n",
      "Adding attribute age\n",
      "Adding attribute race\n",
      "========================== BN constructed ==========================\n",
      "Constructed Bayesian network:\n",
      "    sex  has parents ['score'].\n",
      "    age  has parents ['sex'].\n",
      "    race has parents ['sex'].\n",
      "================ Constructing Bayesian Network (BN) ================\n",
      "Adding ROOT score\n",
      "Adding attribute sex\n",
      "Adding attribute age\n",
      "Adding attribute race\n",
      "========================== BN constructed ==========================\n",
      "Constructed Bayesian network:\n",
      "    sex  has parents ['score'].\n",
      "    age  has parents ['sex', 'score'].\n",
      "    race has parents ['age', 'score'].\n"
     ]
    }
   ],
   "source": [
    "# generate the datasets and calculate KL-divergence in this cell\n",
    "set_random_seed(seed)\n",
    "epsilons = [0.02, 0.04, 0.06, 0.08, 0.1]\n",
    "repeat = 10\n",
    "describer = DataDescriber()\n",
    "generator = DataGenerator()\n",
    "dct = {'KL Score': [],'Mode':[],'Data':[],'Epsilon': []}\n",
    "kl = pd.DataFrame(dct)\n",
    "for i, epsilon in enumerate(epsilons):\n",
    "    print(f'~~~ i={i}, epsilon={epsilon} ~~~')\n",
    "    for rep in range(repeat):\n",
    "      synth_files = {\n",
    "                  'independent attribute mode':    'synthetic data(independent attribute mode).csv',\n",
    "                  'correlated attribute mode k1':     'synthetic data(correlated attribute mode k1).csv',\n",
    "                  'correlated attribute mode k2':     'synthetic data(correlated attribute mode k2).csv'}\n",
    "      desc_files = {\n",
    "                  'independent attribute mode':    'description(independent).json',\n",
    "                  'correlated attribute mode k1':     'description(correlated k1).json',\n",
    "                  'correlated attribute mode k2':     'description(correlated k2).json'}\n",
    "      \n",
    "      ##independent \n",
    "      describer.describe_dataset_in_independent_attribute_mode(real_data_file, epsilon=epsilon,seed=rep)\n",
    "      describer.save_dataset_description_to_file(desc_files['independent attribute mode'])\n",
    "\n",
    "      generator.generate_dataset_in_independent_mode(n=output_data_size, \n",
    "                                      description_file=desc_files['independent attribute mode'], \n",
    "                                      seed=rep)\n",
    "\n",
    "      generator.save_synthetic_data(synth_files['independent attribute mode'])\n",
    "      id = pd.read_csv(synth_files['independent attribute mode'])\n",
    "\n",
    "      kl_ts = ks_test(df_real,ind_syn,'race')\n",
    "      d = {'KL Score': kl_test_score, 'Mode': 'Independent','Data': id,'Epsilon': i}\n",
    "      kl = kl.append(d, ignore_index = True)\n",
    "\n",
    "\n",
    "      #Correlated k=1\n",
    "      describer.describe_dataset_in_correlated_attribute_mode(real_data_file, \n",
    "                                                    epsilon=epsilon, \n",
    "                                                    k=1, seed=rep)\n",
    "\n",
    "      display_bayesian_network(describer.bayesian_network)\n",
    "      describer.save_dataset_description_to_file(desc_files['correlated attribute mode k1'])\n",
    "\n",
    "      generator.generate_dataset_in_correlated_attribute_mode(n=output_data_size,\n",
    "                                                    description_file=desc_files['correlated attribute mode k1'],\n",
    "                                                    seed=rep)\n",
    "      generator.save_synthetic_data(synth_files['correlated attribute mode k1'])\n",
    "      ck1_s = pd.read_csv(synth_files['correlated attribute mode k1'])\n",
    "\n",
    "      kl_ts = ks_test(df_real,ck1_s,'race')\n",
    "      d = {'KL Score': kl_ts, 'Mode': 'Correlated K=1','Data': ck1_s,'Epsilon': i}\n",
    "      kl = kl.append(d, ignore_index = True)\n",
    "\n",
    "      #Correlated k=2\n",
    "      describer.describe_dataset_in_correlated_attribute_mode(real_data_file, \n",
    "                                                    epsilon=epsilon, \n",
    "                                                    k=2,seed=rep)\n",
    "\n",
    "      display_bayesian_network(describer.bayesian_network)\n",
    "      describer.save_dataset_description_to_file(desc_files['correlated attribute mode k2'])\n",
    "\n",
    "      generator.generate_dataset_in_correlated_attribute_mode(n=output_data_size,\n",
    "                                                    description_file=desc_files['correlated attribute mode k2'],\n",
    "                                                    seed=rep)\n",
    "      generator.save_synthetic_data(synth_files['correlated attribute mode k2'])\n",
    "      ck2_s = pd.read_csv(synth_files['correlated attribute mode k2'])\n",
    "\n",
    "      kl_test_score = ks_test(df_real,ck2_s,'race')\n",
    "      d = {'KL Score': kl_test_score, 'Mode': 'Correlated K=2','Data': ck2_s,'Epsilon': i}\n",
    "      kl = kl.append(d, ignore_index = True)\n",
    "\n"
   ]
  },
  {
   "cell_type": "markdown",
   "metadata": {
    "id": "kMeBhq-ktwD_"
   },
   "source": [
    "Create the box-and-whisker plots in the cell below."
   ]
  },
  {
   "cell_type": "code",
   "execution_count": null,
   "metadata": {
    "colab": {
     "base_uri": "https://localhost:8080/",
     "height": 303
    },
    "id": "C_PSVo1dsl5O",
    "outputId": "6df1cc34-5d0d-4cf3-92c9-a2d87dc62670"
   },
   "outputs": [
    {
     "data": {
      "text/plain": [
       "<matplotlib.axes._subplots.AxesSubplot at 0x7fb6c989b090>"
      ]
     },
     "execution_count": 36,
     "metadata": {},
     "output_type": "execute_result"
    },
    {
     "data": {
      "image/png": "[encoded data removed]",
      "text/plain": [
       "<Figure size 432x288 with 1 Axes>"
      ]
     },
     "metadata": {},
     "output_type": "display_data"
    }
   ],
   "source": [
    "# Your code here\n",
    "sns.boxplot(y=kl[\"KL Score\"], x=kl[\"Epsilon\"],hue=kl['Mode'],width=1)"
   ]
  },
  {
   "cell_type": "code",
   "execution_count": null,
   "metadata": {
    "id": "s4-kLrxgQf8y"
   },
   "outputs": [],
   "source": [
    "plt.boxplot()"
   ]
  },
  {
   "cell_type": "code",
   "execution_count": null,
   "metadata": {
    "colab": {
     "base_uri": "https://localhost:8080/",
     "height": 303
    },
    "id": "AMT_jhj3oT17",
    "outputId": "c4bdf0ee-8f4a-4625-f01c-43cfd012061a"
   },
   "outputs": [
    {
     "data": {
      "text/plain": [
       "<matplotlib.axes._subplots.AxesSubplot at 0x7fb6c8e3c490>"
      ]
     },
     "execution_count": 48,
     "metadata": {},
     "output_type": "execute_result"
    },
    {
     "data": {
      "image/png": "[encoded data removed]",
      "text/plain": [
       "<Figure size 432x288 with 1 Axes>"
      ]
     },
     "metadata": {},
     "output_type": "display_data"
    }
   ],
   "source": [
    "kl_s_p = kl.loc[kl['Mode'] == 'Independent']\n",
    "sns.boxplot(y=kl_s_p[\"KL Score\"], x=kl_s_p[\"Epsilon\"],hue=kl_s_p['Mode'],width=1, color='green')"
   ]
  },
  {
   "cell_type": "code",
   "execution_count": null,
   "metadata": {
    "colab": {
     "base_uri": "https://localhost:8080/",
     "height": 303
    },
    "id": "me1c2KoqojXP",
    "outputId": "bb986967-a634-4f5d-b67c-b3141e289416"
   },
   "outputs": [
    {
     "data": {
      "text/plain": [
       "<matplotlib.axes._subplots.AxesSubplot at 0x7fb6c8cbba50>"
      ]
     },
     "execution_count": 49,
     "metadata": {},
     "output_type": "execute_result"
    },
    {
     "data": {
      "image/png": "[encoded data removed]",
      "text/plain": [
       "<Figure size 432x288 with 1 Axes>"
      ]
     },
     "metadata": {},
     "output_type": "display_data"
    }
   ],
   "source": [
    "kl_s_p = kl.loc[kl['Mode'] == 'Correlated K=1']\n",
    "sns.boxplot(y=kl_s_p[\"KL Score\"], x=kl_s_p[\"Epsilon\"],hue=kl_s_p['Mode'],width=1, color='blue')"
   ]
  },
  {
   "cell_type": "code",
   "execution_count": null,
   "metadata": {
    "id": "ZoPGZrGlOkW2"
   },
   "outputs": [],
   "source": []
  }
 ],
 "metadata": {
  "colab": {
   "collapsed_sections": [],
   "name": "pn943_rds_hw",
   "provenance": []
  },
  "kernelspec": {
   "display_name": "Python 3 (ipykernel)",
   "language": "python",
   "name": "python3"
  },
  "language_info": {
   "codemirror_mode": {
    "name": "ipython",
    "version": 3
   },
   "file_extension": ".py",
   "mimetype": "text/x-python",
   "name": "python",
   "nbconvert_exporter": "python",
   "pygments_lexer": "ipython3",
   "version": "3.8.3"
  }
 },
 "nbformat": 4,
 "nbformat_minor": 4
}
